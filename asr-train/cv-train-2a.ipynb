{
 "cells": [
  {
   "cell_type": "markdown",
   "id": "cda25bec-6869-42b7-8df8-6e5d2fe9ea60",
   "metadata": {
    "id": "cda25bec-6869-42b7-8df8-6e5d2fe9ea60"
   },
   "source": [
    "## Fine-tuning Automatic Speech Recognition (ASR) Model\n",
    "- **Model:** \"wav2vec2-large-960h\", https://huggingface.co/facebook/wav2vec2-large-960h\n",
    "- *Read up on articles on Fine-tuning, Loss function and Evaluation matrix (WEP etc.)*\n",
    "\n",
    "**Research Papers & Useful links**\n",
    "- **Wave2Vec 2.0**: https://arxiv.org/pdf/2006.11477\n",
    "- **Model Framework (Intuition, Architecture, Loss, Fine-tuning)**: https://towardsdatascience.com/wav2vec-2-0-a-framework-for-self-supervised-learning-of-speech-representations-7d3728688cae/\n",
    "- **Source code:** https://github.com/huggingface/transformers/blob/v4.49.0/src/transformers/training_args.py#L224\n",
    "- **Contrastive learning in pre-training:** https://towardsdatascience.com/wav2vec-2-0-a-framework-for-self-supervised-learning-of-speech-representations-7d3728688cae/\n",
    "- **Connectionist Temporal Classification (CTC) for sequence modelling and fine-tuning:** https://distill.pub/2017/ctc/\n",
    "- **Fine-tuning wav2vec for ASR with timit dataset:** https://huggingface.co/blog/fine-tune-wav2vec2-english\n",
    "- **List of Evaluation Metrics for ASR models:** https://huggingface.co/learn/audio-course/chapter5/evaluation\n",
    "- **Common voice dataset card:** https://huggingface.co/datasets/legacy-datasets/common_voice/blob/main/README.md#dataset-summary"
   ]
  },
  {
   "cell_type": "code",
   "execution_count": null,
   "id": "rIK3HpN6YNml",
   "metadata": {
    "colab": {
     "base_uri": "https://localhost:8080/"
    },
    "executionInfo": {
     "elapsed": 18202,
     "status": "ok",
     "timestamp": 1740615146979,
     "user": {
      "displayName": "Jin Kett Yee",
      "userId": "13564150855909515795"
     },
     "user_tz": 480
    },
    "id": "rIK3HpN6YNml",
    "outputId": "8227bf88-5ceb-47d9-e9f7-c484f09077a4"
   },
   "outputs": [
    {
     "name": "stdout",
     "output_type": "stream",
     "text": [
      "Mounted at /content/drive\n"
     ]
    }
   ],
   "source": [
    "# for google colab - Mount Drive.\n",
    "from google.colab import drive\n",
    "drive.mount('/content/drive')"
   ]
  },
  {
   "cell_type": "code",
   "execution_count": null,
   "id": "jB2m7IUqMTJG",
   "metadata": {
    "colab": {
     "base_uri": "https://localhost:8080/"
    },
    "collapsed": true,
    "executionInfo": {
     "elapsed": 28788,
     "status": "ok",
     "timestamp": 1740615175769,
     "user": {
      "displayName": "Jin Kett Yee",
      "userId": "13564150855909515795"
     },
     "user_tz": 480
    },
    "id": "jB2m7IUqMTJG",
    "jupyter": {
     "outputs_hidden": true
    },
    "outputId": "3a412a28-acd7-4218-87ba-a06f44c7c0b8"
   },
   "outputs": [
    {
     "name": "stdout",
     "output_type": "stream",
     "text": [
      "Collecting datasets\n",
      "  Downloading datasets-3.3.2-py3-none-any.whl.metadata (19 kB)\n",
      "Collecting evaluate\n",
      "  Downloading evaluate-0.4.3-py3-none-any.whl.metadata (9.2 kB)\n",
      "Collecting ray\n",
      "  Downloading ray-2.42.1-cp311-cp311-manylinux2014_x86_64.whl.metadata (18 kB)\n",
      "Collecting loguru\n",
      "  Downloading loguru-0.7.3-py3-none-any.whl.metadata (22 kB)\n",
      "Collecting jiwer\n",
      "  Downloading jiwer-3.1.0-py3-none-any.whl.metadata (2.6 kB)\n",
      "Requirement already satisfied: filelock in /usr/local/lib/python3.11/dist-packages (from datasets) (3.17.0)\n",
      "Requirement already satisfied: numpy>=1.17 in /usr/local/lib/python3.11/dist-packages (from datasets) (1.26.4)\n",
      "Requirement already satisfied: pyarrow>=15.0.0 in /usr/local/lib/python3.11/dist-packages (from datasets) (18.1.0)\n",
      "Collecting dill<0.3.9,>=0.3.0 (from datasets)\n",
      "  Downloading dill-0.3.8-py3-none-any.whl.metadata (10 kB)\n",
      "Requirement already satisfied: pandas in /usr/local/lib/python3.11/dist-packages (from datasets) (2.2.2)\n",
      "Requirement already satisfied: requests>=2.32.2 in /usr/local/lib/python3.11/dist-packages (from datasets) (2.32.3)\n",
      "Requirement already satisfied: tqdm>=4.66.3 in /usr/local/lib/python3.11/dist-packages (from datasets) (4.67.1)\n",
      "Collecting xxhash (from datasets)\n",
      "  Downloading xxhash-3.5.0-cp311-cp311-manylinux_2_17_x86_64.manylinux2014_x86_64.whl.metadata (12 kB)\n",
      "Collecting multiprocess<0.70.17 (from datasets)\n",
      "  Downloading multiprocess-0.70.16-py311-none-any.whl.metadata (7.2 kB)\n",
      "Requirement already satisfied: fsspec<=2024.12.0,>=2023.1.0 in /usr/local/lib/python3.11/dist-packages (from fsspec[http]<=2024.12.0,>=2023.1.0->datasets) (2024.10.0)\n",
      "Requirement already satisfied: aiohttp in /usr/local/lib/python3.11/dist-packages (from datasets) (3.11.12)\n",
      "Requirement already satisfied: huggingface-hub>=0.24.0 in /usr/local/lib/python3.11/dist-packages (from datasets) (0.28.1)\n",
      "Requirement already satisfied: packaging in /usr/local/lib/python3.11/dist-packages (from datasets) (24.2)\n",
      "Requirement already satisfied: pyyaml>=5.1 in /usr/local/lib/python3.11/dist-packages (from datasets) (6.0.2)\n",
      "Requirement already satisfied: click>=7.0 in /usr/local/lib/python3.11/dist-packages (from ray) (8.1.8)\n",
      "Requirement already satisfied: jsonschema in /usr/local/lib/python3.11/dist-packages (from ray) (4.23.0)\n",
      "Requirement already satisfied: msgpack<2.0.0,>=1.0.0 in /usr/local/lib/python3.11/dist-packages (from ray) (1.1.0)\n",
      "Requirement already satisfied: protobuf!=3.19.5,>=3.15.3 in /usr/local/lib/python3.11/dist-packages (from ray) (4.25.6)\n",
      "Requirement already satisfied: aiosignal in /usr/local/lib/python3.11/dist-packages (from ray) (1.3.2)\n",
      "Requirement already satisfied: frozenlist in /usr/local/lib/python3.11/dist-packages (from ray) (1.5.0)\n",
      "Collecting rapidfuzz>=3.9.7 (from jiwer)\n",
      "  Downloading rapidfuzz-3.12.1-cp311-cp311-manylinux_2_17_x86_64.manylinux2014_x86_64.whl.metadata (11 kB)\n",
      "Requirement already satisfied: aiohappyeyeballs>=2.3.0 in /usr/local/lib/python3.11/dist-packages (from aiohttp->datasets) (2.4.6)\n",
      "Requirement already satisfied: attrs>=17.3.0 in /usr/local/lib/python3.11/dist-packages (from aiohttp->datasets) (25.1.0)\n",
      "Requirement already satisfied: multidict<7.0,>=4.5 in /usr/local/lib/python3.11/dist-packages (from aiohttp->datasets) (6.1.0)\n",
      "Requirement already satisfied: propcache>=0.2.0 in /usr/local/lib/python3.11/dist-packages (from aiohttp->datasets) (0.3.0)\n",
      "Requirement already satisfied: yarl<2.0,>=1.17.0 in /usr/local/lib/python3.11/dist-packages (from aiohttp->datasets) (1.18.3)\n",
      "Requirement already satisfied: typing-extensions>=3.7.4.3 in /usr/local/lib/python3.11/dist-packages (from huggingface-hub>=0.24.0->datasets) (4.12.2)\n",
      "Requirement already satisfied: charset-normalizer<4,>=2 in /usr/local/lib/python3.11/dist-packages (from requests>=2.32.2->datasets) (3.4.1)\n",
      "Requirement already satisfied: idna<4,>=2.5 in /usr/local/lib/python3.11/dist-packages (from requests>=2.32.2->datasets) (3.10)\n",
      "Requirement already satisfied: urllib3<3,>=1.21.1 in /usr/local/lib/python3.11/dist-packages (from requests>=2.32.2->datasets) (2.3.0)\n",
      "Requirement already satisfied: certifi>=2017.4.17 in /usr/local/lib/python3.11/dist-packages (from requests>=2.32.2->datasets) (2025.1.31)\n",
      "Requirement already satisfied: jsonschema-specifications>=2023.03.6 in /usr/local/lib/python3.11/dist-packages (from jsonschema->ray) (2024.10.1)\n",
      "Requirement already satisfied: referencing>=0.28.4 in /usr/local/lib/python3.11/dist-packages (from jsonschema->ray) (0.36.2)\n",
      "Requirement already satisfied: rpds-py>=0.7.1 in /usr/local/lib/python3.11/dist-packages (from jsonschema->ray) (0.23.0)\n",
      "Requirement already satisfied: python-dateutil>=2.8.2 in /usr/local/lib/python3.11/dist-packages (from pandas->datasets) (2.8.2)\n",
      "Requirement already satisfied: pytz>=2020.1 in /usr/local/lib/python3.11/dist-packages (from pandas->datasets) (2025.1)\n",
      "Requirement already satisfied: tzdata>=2022.7 in /usr/local/lib/python3.11/dist-packages (from pandas->datasets) (2025.1)\n",
      "Requirement already satisfied: six>=1.5 in /usr/local/lib/python3.11/dist-packages (from python-dateutil>=2.8.2->pandas->datasets) (1.17.0)\n",
      "Downloading datasets-3.3.2-py3-none-any.whl (485 kB)\n",
      "\u001b[2K   \u001b[90m━━━━━━━━━━━━━━━━━━━━━━━━━━━━━━━━━━━━━━━━\u001b[0m \u001b[32m485.4/485.4 kB\u001b[0m \u001b[31m13.9 MB/s\u001b[0m eta \u001b[36m0:00:00\u001b[0m\n",
      "\u001b[?25hDownloading evaluate-0.4.3-py3-none-any.whl (84 kB)\n",
      "\u001b[2K   \u001b[90m━━━━━━━━━━━━━━━━━━━━━━━━━━━━━━━━━━━━━━━━\u001b[0m \u001b[32m84.0/84.0 kB\u001b[0m \u001b[31m4.6 MB/s\u001b[0m eta \u001b[36m0:00:00\u001b[0m\n",
      "\u001b[?25hDownloading ray-2.42.1-cp311-cp311-manylinux2014_x86_64.whl (67.4 MB)\n",
      "\u001b[2K   \u001b[90m━━━━━━━━━━━━━━━━━━━━━━━━━━━━━━━━━━━━━━━━\u001b[0m \u001b[32m67.4/67.4 MB\u001b[0m \u001b[31m8.6 MB/s\u001b[0m eta \u001b[36m0:00:00\u001b[0m\n",
      "\u001b[?25hDownloading loguru-0.7.3-py3-none-any.whl (61 kB)\n",
      "\u001b[2K   \u001b[90m━━━━━━━━━━━━━━━━━━━━━━━━━━━━━━━━━━━━━━━━\u001b[0m \u001b[32m61.6/61.6 kB\u001b[0m \u001b[31m4.2 MB/s\u001b[0m eta \u001b[36m0:00:00\u001b[0m\n",
      "\u001b[?25hDownloading jiwer-3.1.0-py3-none-any.whl (22 kB)\n",
      "Downloading dill-0.3.8-py3-none-any.whl (116 kB)\n",
      "\u001b[2K   \u001b[90m━━━━━━━━━━━━━━━━━━━━━━━━━━━━━━━━━━━━━━━━\u001b[0m \u001b[32m116.3/116.3 kB\u001b[0m \u001b[31m5.9 MB/s\u001b[0m eta \u001b[36m0:00:00\u001b[0m\n",
      "\u001b[?25hDownloading multiprocess-0.70.16-py311-none-any.whl (143 kB)\n",
      "\u001b[2K   \u001b[90m━━━━━━━━━━━━━━━━━━━━━━━━━━━━━━━━━━━━━━━━\u001b[0m \u001b[32m143.5/143.5 kB\u001b[0m \u001b[31m10.6 MB/s\u001b[0m eta \u001b[36m0:00:00\u001b[0m\n",
      "\u001b[?25hDownloading rapidfuzz-3.12.1-cp311-cp311-manylinux_2_17_x86_64.manylinux2014_x86_64.whl (3.1 MB)\n",
      "\u001b[2K   \u001b[90m━━━━━━━━━━━━━━━━━━━━━━━━━━━━━━━━━━━━━━━━\u001b[0m \u001b[32m3.1/3.1 MB\u001b[0m \u001b[31m39.1 MB/s\u001b[0m eta \u001b[36m0:00:00\u001b[0m\n",
      "\u001b[?25hDownloading xxhash-3.5.0-cp311-cp311-manylinux_2_17_x86_64.manylinux2014_x86_64.whl (194 kB)\n",
      "\u001b[2K   \u001b[90m━━━━━━━━━━━━━━━━━━━━━━━━━━━━━━━━━━━━━━━━\u001b[0m \u001b[32m194.8/194.8 kB\u001b[0m \u001b[31m8.7 MB/s\u001b[0m eta \u001b[36m0:00:00\u001b[0m\n",
      "\u001b[?25hInstalling collected packages: xxhash, rapidfuzz, loguru, dill, multiprocess, jiwer, ray, datasets, evaluate\n",
      "Successfully installed datasets-3.3.2 dill-0.3.8 evaluate-0.4.3 jiwer-3.1.0 loguru-0.7.3 multiprocess-0.70.16 rapidfuzz-3.12.1 ray-2.42.1 xxhash-3.5.0\n"
     ]
    }
   ],
   "source": [
    "pip install datasets evaluate ray loguru jiwer"
   ]
  },
  {
   "cell_type": "code",
   "execution_count": null,
   "id": "69d22d0e-440b-473d-8230-be170b5064db",
   "metadata": {
    "id": "69d22d0e-440b-473d-8230-be170b5064db",
    "tags": []
   },
   "outputs": [],
   "source": [
    "# Import dependencies\n",
    "import os\n",
    "import io\n",
    "import pandas as pd\n",
    "import random\n",
    "import numpy as np\n",
    "import matplotlib.pyplot as plt\n",
    "import seaborn as sns\n",
    "from tabulate import tabulate\n",
    "import torchaudio\n",
    "import torch\n",
    "from datasets import load_dataset, Dataset, DatasetDict, Audio\n",
    "import evaluate\n",
    "from transformers import (Wav2Vec2Processor, Wav2Vec2ForCTC, Trainer, TrainingArguments)\n",
    "from sklearn.model_selection import train_test_split\n",
    "from torch.optim import AdamW\n",
    "from ray import tune\n",
    "import json\n",
    "import shutil\n",
    "from tqdm import tqdm\n",
    "from loguru import logger\n",
    "import jiwer\n",
    "from statistics import mean"
   ]
  },
  {
   "cell_type": "code",
   "execution_count": null,
   "id": "G_uR6on9Uyfb",
   "metadata": {
    "colab": {
     "base_uri": "https://localhost:8080/",
     "height": 206
    },
    "executionInfo": {
     "elapsed": 74,
     "status": "ok",
     "timestamp": 1740340541124,
     "user": {
      "displayName": "Jin Kett Yee",
      "userId": "13564150855909515795"
     },
     "user_tz": 480
    },
    "id": "G_uR6on9Uyfb",
    "outputId": "6903be18-459e-4aee-c9a0-1343bac778d9"
   },
   "outputs": [
    {
     "data": {
      "application/vnd.google.colaboratory.intrinsic+json": {
       "summary": "{\n  \"name\": \"df\",\n  \"rows\": 2000,\n  \"fields\": [\n    {\n      \"column\": \"filename\",\n      \"properties\": {\n        \"dtype\": \"string\",\n        \"num_unique_values\": 2000,\n        \"samples\": [\n          \"cv-valid-train/sample-001860.mp3\",\n          \"cv-valid-train/sample-000353.mp3\",\n          \"cv-valid-train/sample-001333.mp3\"\n        ],\n        \"semantic_type\": \"\",\n        \"description\": \"\"\n      }\n    },\n    {\n      \"column\": \"text\",\n      \"properties\": {\n        \"dtype\": \"string\",\n        \"num_unique_values\": 1471,\n        \"samples\": [\n          \"but i sort of like him\",\n          \"they filled three sacks\",\n          \"it didn't even occur to the boy to flee\"\n        ],\n        \"semantic_type\": \"\",\n        \"description\": \"\"\n      }\n    },\n    {\n      \"column\": \"up_votes\",\n      \"properties\": {\n        \"dtype\": \"number\",\n        \"std\": 2,\n        \"min\": 1,\n        \"max\": 55,\n        \"num_unique_values\": 23,\n        \"samples\": [\n          35,\n          6,\n          1\n        ],\n        \"semantic_type\": \"\",\n        \"description\": \"\"\n      }\n    },\n    {\n      \"column\": \"down_votes\",\n      \"properties\": {\n        \"dtype\": \"number\",\n        \"std\": 0,\n        \"min\": 0,\n        \"max\": 14,\n        \"num_unique_values\": 7,\n        \"samples\": [\n          0,\n          2,\n          6\n        ],\n        \"semantic_type\": \"\",\n        \"description\": \"\"\n      }\n    },\n    {\n      \"column\": \"age\",\n      \"properties\": {\n        \"dtype\": \"category\",\n        \"num_unique_values\": 8,\n        \"samples\": [\n          \"seventies\",\n          \"fourties\",\n          \"twenties\"\n        ],\n        \"semantic_type\": \"\",\n        \"description\": \"\"\n      }\n    },\n    {\n      \"column\": \"gender\",\n      \"properties\": {\n        \"dtype\": \"category\",\n        \"num_unique_values\": 3,\n        \"samples\": [\n          \"female\",\n          \"male\",\n          \"other\"\n        ],\n        \"semantic_type\": \"\",\n        \"description\": \"\"\n      }\n    },\n    {\n      \"column\": \"accent\",\n      \"properties\": {\n        \"dtype\": \"category\",\n        \"num_unique_values\": 15,\n        \"samples\": [\n          \"african\",\n          \"wales\",\n          \"us\"\n        ],\n        \"semantic_type\": \"\",\n        \"description\": \"\"\n      }\n    },\n    {\n      \"column\": \"duration\",\n      \"properties\": {\n        \"dtype\": \"number\",\n        \"std\": null,\n        \"min\": null,\n        \"max\": null,\n        \"num_unique_values\": 0,\n        \"samples\": [],\n        \"semantic_type\": \"\",\n        \"description\": \"\"\n      }\n    }\n  ]\n}",
       "type": "dataframe",
       "variable_name": "df"
      },
      "text/html": [
       "\n",
       "  <div id=\"df-7a86c9cc-bc6a-4287-a16f-7f02a108645c\" class=\"colab-df-container\">\n",
       "    <div>\n",
       "<style scoped>\n",
       "    .dataframe tbody tr th:only-of-type {\n",
       "        vertical-align: middle;\n",
       "    }\n",
       "\n",
       "    .dataframe tbody tr th {\n",
       "        vertical-align: top;\n",
       "    }\n",
       "\n",
       "    .dataframe thead th {\n",
       "        text-align: right;\n",
       "    }\n",
       "</style>\n",
       "<table border=\"1\" class=\"dataframe\">\n",
       "  <thead>\n",
       "    <tr style=\"text-align: right;\">\n",
       "      <th></th>\n",
       "      <th>filename</th>\n",
       "      <th>text</th>\n",
       "      <th>up_votes</th>\n",
       "      <th>down_votes</th>\n",
       "      <th>age</th>\n",
       "      <th>gender</th>\n",
       "      <th>accent</th>\n",
       "      <th>duration</th>\n",
       "    </tr>\n",
       "  </thead>\n",
       "  <tbody>\n",
       "    <tr>\n",
       "      <th>0</th>\n",
       "      <td>cv-valid-train/sample-000000.mp3</td>\n",
       "      <td>learn to recognize omens and follow them the o...</td>\n",
       "      <td>1</td>\n",
       "      <td>0</td>\n",
       "      <td>NaN</td>\n",
       "      <td>NaN</td>\n",
       "      <td>NaN</td>\n",
       "      <td>NaN</td>\n",
       "    </tr>\n",
       "    <tr>\n",
       "      <th>1</th>\n",
       "      <td>cv-valid-train/sample-000001.mp3</td>\n",
       "      <td>everything in the universe evolved he said</td>\n",
       "      <td>1</td>\n",
       "      <td>0</td>\n",
       "      <td>NaN</td>\n",
       "      <td>NaN</td>\n",
       "      <td>NaN</td>\n",
       "      <td>NaN</td>\n",
       "    </tr>\n",
       "    <tr>\n",
       "      <th>2</th>\n",
       "      <td>cv-valid-train/sample-000002.mp3</td>\n",
       "      <td>you came so that you could learn about your dr...</td>\n",
       "      <td>1</td>\n",
       "      <td>0</td>\n",
       "      <td>NaN</td>\n",
       "      <td>NaN</td>\n",
       "      <td>NaN</td>\n",
       "      <td>NaN</td>\n",
       "    </tr>\n",
       "    <tr>\n",
       "      <th>3</th>\n",
       "      <td>cv-valid-train/sample-000003.mp3</td>\n",
       "      <td>so now i fear nothing because it was those ome...</td>\n",
       "      <td>1</td>\n",
       "      <td>0</td>\n",
       "      <td>NaN</td>\n",
       "      <td>NaN</td>\n",
       "      <td>NaN</td>\n",
       "      <td>NaN</td>\n",
       "    </tr>\n",
       "    <tr>\n",
       "      <th>4</th>\n",
       "      <td>cv-valid-train/sample-000004.mp3</td>\n",
       "      <td>if you start your emails with greetings let me...</td>\n",
       "      <td>3</td>\n",
       "      <td>2</td>\n",
       "      <td>NaN</td>\n",
       "      <td>NaN</td>\n",
       "      <td>NaN</td>\n",
       "      <td>NaN</td>\n",
       "    </tr>\n",
       "  </tbody>\n",
       "</table>\n",
       "</div>\n",
       "    <div class=\"colab-df-buttons\">\n",
       "\n",
       "  <div class=\"colab-df-container\">\n",
       "    <button class=\"colab-df-convert\" onclick=\"convertToInteractive('df-7a86c9cc-bc6a-4287-a16f-7f02a108645c')\"\n",
       "            title=\"Convert this dataframe to an interactive table.\"\n",
       "            style=\"display:none;\">\n",
       "\n",
       "  <svg xmlns=\"http://www.w3.org/2000/svg\" height=\"24px\" viewBox=\"0 -960 960 960\">\n",
       "    <path d=\"M120-120v-720h720v720H120Zm60-500h600v-160H180v160Zm220 220h160v-160H400v160Zm0 220h160v-160H400v160ZM180-400h160v-160H180v160Zm440 0h160v-160H620v160ZM180-180h160v-160H180v160Zm440 0h160v-160H620v160Z\"/>\n",
       "  </svg>\n",
       "    </button>\n",
       "\n",
       "  <style>\n",
       "    .colab-df-container {\n",
       "      display:flex;\n",
       "      gap: 12px;\n",
       "    }\n",
       "\n",
       "    .colab-df-convert {\n",
       "      background-color: #E8F0FE;\n",
       "      border: none;\n",
       "      border-radius: 50%;\n",
       "      cursor: pointer;\n",
       "      display: none;\n",
       "      fill: #1967D2;\n",
       "      height: 32px;\n",
       "      padding: 0 0 0 0;\n",
       "      width: 32px;\n",
       "    }\n",
       "\n",
       "    .colab-df-convert:hover {\n",
       "      background-color: #E2EBFA;\n",
       "      box-shadow: 0px 1px 2px rgba(60, 64, 67, 0.3), 0px 1px 3px 1px rgba(60, 64, 67, 0.15);\n",
       "      fill: #174EA6;\n",
       "    }\n",
       "\n",
       "    .colab-df-buttons div {\n",
       "      margin-bottom: 4px;\n",
       "    }\n",
       "\n",
       "    [theme=dark] .colab-df-convert {\n",
       "      background-color: #3B4455;\n",
       "      fill: #D2E3FC;\n",
       "    }\n",
       "\n",
       "    [theme=dark] .colab-df-convert:hover {\n",
       "      background-color: #434B5C;\n",
       "      box-shadow: 0px 1px 3px 1px rgba(0, 0, 0, 0.15);\n",
       "      filter: drop-shadow(0px 1px 2px rgba(0, 0, 0, 0.3));\n",
       "      fill: #FFFFFF;\n",
       "    }\n",
       "  </style>\n",
       "\n",
       "    <script>\n",
       "      const buttonEl =\n",
       "        document.querySelector('#df-7a86c9cc-bc6a-4287-a16f-7f02a108645c button.colab-df-convert');\n",
       "      buttonEl.style.display =\n",
       "        google.colab.kernel.accessAllowed ? 'block' : 'none';\n",
       "\n",
       "      async function convertToInteractive(key) {\n",
       "        const element = document.querySelector('#df-7a86c9cc-bc6a-4287-a16f-7f02a108645c');\n",
       "        const dataTable =\n",
       "          await google.colab.kernel.invokeFunction('convertToInteractive',\n",
       "                                                    [key], {});\n",
       "        if (!dataTable) return;\n",
       "\n",
       "        const docLinkHtml = 'Like what you see? Visit the ' +\n",
       "          '<a target=\"_blank\" href=https://colab.research.google.com/notebooks/data_table.ipynb>data table notebook</a>'\n",
       "          + ' to learn more about interactive tables.';\n",
       "        element.innerHTML = '';\n",
       "        dataTable['output_type'] = 'display_data';\n",
       "        await google.colab.output.renderOutput(dataTable, element);\n",
       "        const docLink = document.createElement('div');\n",
       "        docLink.innerHTML = docLinkHtml;\n",
       "        element.appendChild(docLink);\n",
       "      }\n",
       "    </script>\n",
       "  </div>\n",
       "\n",
       "\n",
       "<div id=\"df-fe7c2f6a-107b-4c2a-a228-ffc6df8cbba0\">\n",
       "  <button class=\"colab-df-quickchart\" onclick=\"quickchart('df-fe7c2f6a-107b-4c2a-a228-ffc6df8cbba0')\"\n",
       "            title=\"Suggest charts\"\n",
       "            style=\"display:none;\">\n",
       "\n",
       "<svg xmlns=\"http://www.w3.org/2000/svg\" height=\"24px\"viewBox=\"0 0 24 24\"\n",
       "     width=\"24px\">\n",
       "    <g>\n",
       "        <path d=\"M19 3H5c-1.1 0-2 .9-2 2v14c0 1.1.9 2 2 2h14c1.1 0 2-.9 2-2V5c0-1.1-.9-2-2-2zM9 17H7v-7h2v7zm4 0h-2V7h2v10zm4 0h-2v-4h2v4z\"/>\n",
       "    </g>\n",
       "</svg>\n",
       "  </button>\n",
       "\n",
       "<style>\n",
       "  .colab-df-quickchart {\n",
       "      --bg-color: #E8F0FE;\n",
       "      --fill-color: #1967D2;\n",
       "      --hover-bg-color: #E2EBFA;\n",
       "      --hover-fill-color: #174EA6;\n",
       "      --disabled-fill-color: #AAA;\n",
       "      --disabled-bg-color: #DDD;\n",
       "  }\n",
       "\n",
       "  [theme=dark] .colab-df-quickchart {\n",
       "      --bg-color: #3B4455;\n",
       "      --fill-color: #D2E3FC;\n",
       "      --hover-bg-color: #434B5C;\n",
       "      --hover-fill-color: #FFFFFF;\n",
       "      --disabled-bg-color: #3B4455;\n",
       "      --disabled-fill-color: #666;\n",
       "  }\n",
       "\n",
       "  .colab-df-quickchart {\n",
       "    background-color: var(--bg-color);\n",
       "    border: none;\n",
       "    border-radius: 50%;\n",
       "    cursor: pointer;\n",
       "    display: none;\n",
       "    fill: var(--fill-color);\n",
       "    height: 32px;\n",
       "    padding: 0;\n",
       "    width: 32px;\n",
       "  }\n",
       "\n",
       "  .colab-df-quickchart:hover {\n",
       "    background-color: var(--hover-bg-color);\n",
       "    box-shadow: 0 1px 2px rgba(60, 64, 67, 0.3), 0 1px 3px 1px rgba(60, 64, 67, 0.15);\n",
       "    fill: var(--button-hover-fill-color);\n",
       "  }\n",
       "\n",
       "  .colab-df-quickchart-complete:disabled,\n",
       "  .colab-df-quickchart-complete:disabled:hover {\n",
       "    background-color: var(--disabled-bg-color);\n",
       "    fill: var(--disabled-fill-color);\n",
       "    box-shadow: none;\n",
       "  }\n",
       "\n",
       "  .colab-df-spinner {\n",
       "    border: 2px solid var(--fill-color);\n",
       "    border-color: transparent;\n",
       "    border-bottom-color: var(--fill-color);\n",
       "    animation:\n",
       "      spin 1s steps(1) infinite;\n",
       "  }\n",
       "\n",
       "  @keyframes spin {\n",
       "    0% {\n",
       "      border-color: transparent;\n",
       "      border-bottom-color: var(--fill-color);\n",
       "      border-left-color: var(--fill-color);\n",
       "    }\n",
       "    20% {\n",
       "      border-color: transparent;\n",
       "      border-left-color: var(--fill-color);\n",
       "      border-top-color: var(--fill-color);\n",
       "    }\n",
       "    30% {\n",
       "      border-color: transparent;\n",
       "      border-left-color: var(--fill-color);\n",
       "      border-top-color: var(--fill-color);\n",
       "      border-right-color: var(--fill-color);\n",
       "    }\n",
       "    40% {\n",
       "      border-color: transparent;\n",
       "      border-right-color: var(--fill-color);\n",
       "      border-top-color: var(--fill-color);\n",
       "    }\n",
       "    60% {\n",
       "      border-color: transparent;\n",
       "      border-right-color: var(--fill-color);\n",
       "    }\n",
       "    80% {\n",
       "      border-color: transparent;\n",
       "      border-right-color: var(--fill-color);\n",
       "      border-bottom-color: var(--fill-color);\n",
       "    }\n",
       "    90% {\n",
       "      border-color: transparent;\n",
       "      border-bottom-color: var(--fill-color);\n",
       "    }\n",
       "  }\n",
       "</style>\n",
       "\n",
       "  <script>\n",
       "    async function quickchart(key) {\n",
       "      const quickchartButtonEl =\n",
       "        document.querySelector('#' + key + ' button');\n",
       "      quickchartButtonEl.disabled = true;  // To prevent multiple clicks.\n",
       "      quickchartButtonEl.classList.add('colab-df-spinner');\n",
       "      try {\n",
       "        const charts = await google.colab.kernel.invokeFunction(\n",
       "            'suggestCharts', [key], {});\n",
       "      } catch (error) {\n",
       "        console.error('Error during call to suggestCharts:', error);\n",
       "      }\n",
       "      quickchartButtonEl.classList.remove('colab-df-spinner');\n",
       "      quickchartButtonEl.classList.add('colab-df-quickchart-complete');\n",
       "    }\n",
       "    (() => {\n",
       "      let quickchartButtonEl =\n",
       "        document.querySelector('#df-fe7c2f6a-107b-4c2a-a228-ffc6df8cbba0 button');\n",
       "      quickchartButtonEl.style.display =\n",
       "        google.colab.kernel.accessAllowed ? 'block' : 'none';\n",
       "    })();\n",
       "  </script>\n",
       "</div>\n",
       "\n",
       "    </div>\n",
       "  </div>\n"
      ],
      "text/plain": [
       "                           filename  \\\n",
       "0  cv-valid-train/sample-000000.mp3   \n",
       "1  cv-valid-train/sample-000001.mp3   \n",
       "2  cv-valid-train/sample-000002.mp3   \n",
       "3  cv-valid-train/sample-000003.mp3   \n",
       "4  cv-valid-train/sample-000004.mp3   \n",
       "\n",
       "                                                text  up_votes  down_votes  \\\n",
       "0  learn to recognize omens and follow them the o...         1           0   \n",
       "1         everything in the universe evolved he said         1           0   \n",
       "2  you came so that you could learn about your dr...         1           0   \n",
       "3  so now i fear nothing because it was those ome...         1           0   \n",
       "4  if you start your emails with greetings let me...         3           2   \n",
       "\n",
       "   age gender accent  duration  \n",
       "0  NaN    NaN    NaN       NaN  \n",
       "1  NaN    NaN    NaN       NaN  \n",
       "2  NaN    NaN    NaN       NaN  \n",
       "3  NaN    NaN    NaN       NaN  \n",
       "4  NaN    NaN    NaN       NaN  "
      ]
     },
     "execution_count": 11,
     "metadata": {},
     "output_type": "execute_result"
    }
   ],
   "source": [
    "path = \"/content/drive/MyDrive/Colab Notebooks/wav2vec2-finetune/cv-valid-train.csv\"\n",
    "df = pd.read_csv(path)\n",
    "df.head()"
   ]
  },
  {
   "cell_type": "markdown",
   "id": "237c32db-7fea-40d2-a149-8256d0c70eda",
   "metadata": {
    "id": "237c32db-7fea-40d2-a149-8256d0c70eda"
   },
   "source": [
    "### Test inputs & outputs for sample MP3 audio file\n",
    "- Output logits has shape [1, 203, 32] representing batch_size, no. of time-steps and vocab\n",
    "- Arg max takes the max logit under token id along the \"time-step\" dimension to get \"most likely\" token id. Output -> [1, 203]\n",
    "- Decoder then works to generate transcription from token ids across all time-steps"
   ]
  },
  {
   "cell_type": "code",
   "execution_count": null,
   "id": "b1453047-7d2e-425e-bf67-bacc06b76460",
   "metadata": {
    "colab": {
     "base_uri": "https://localhost:8080/",
     "height": 168,
     "referenced_widgets": [
      "bf5fff3242754227b639b38740fe1a5a",
      "e79fbfe5d1cd48f3af13efb434eb4916",
      "caa42700a0c34b3c9efe051a642f6706",
      "fcd0feaf04aa4d6da1ba7aca1bf9ea1d",
      "758c4e5c87f34f2c9a4c8d3b98950f81",
      "661832c4cee64d6690d9bbac3c16fc57",
      "818ae4ba5d854864b9affa07dd6aa680",
      "f13e88a124794b2f80039dd6a6e0fbb7",
      "67fa0e22f17d4b8a92e0f27e6d1409b9",
      "5e9c28734e7c49cd865eee77548059dd",
      "50805c85c6b64bf3ae637d15ef82100c",
      "9a8667c77d8746efba85d064d9b906aa",
      "e401650a5f1f449e84bc4f256b203a32",
      "75aaf29afc504f17b50f731d605458d1",
      "8d1f38db53234540a191daf92233d1d0",
      "05a8f878b2a845638154ffaf04f6a5d6",
      "780e34b38ac24224b84b874d991b7e4d",
      "e4789907d9f944708a82a3b0c2d72c85",
      "84120be009814caa9603f7795c88818c",
      "c5cdeb29aa874d1ba833e0c5dda2bbec",
      "11b08960e522453e94180a54b1cc955a",
      "f4313caf6417486c9da64d28e4246e6f"
     ]
    },
    "executionInfo": {
     "elapsed": 24012,
     "status": "ok",
     "timestamp": 1740290786482,
     "user": {
      "displayName": "Jin Kett Yee",
      "userId": "13564150855909515795"
     },
     "user_tz": 480
    },
    "id": "b1453047-7d2e-425e-bf67-bacc06b76460",
    "outputId": "062e2841-0f71-44df-eed0-39afdda66646",
    "tags": []
   },
   "outputs": [
    {
     "data": {
      "application/vnd.jupyter.widget-view+json": {
       "model_id": "bf5fff3242754227b639b38740fe1a5a",
       "version_major": 2,
       "version_minor": 0
      },
      "text/plain": [
       "pytorch_model.bin:   5%|4         | 62.9M/1.26G [00:00<?, ?B/s]"
      ]
     },
     "metadata": {},
     "output_type": "display_data"
    },
    {
     "name": "stderr",
     "output_type": "stream",
     "text": [
      "Some weights of Wav2Vec2ForCTC were not initialized from the model checkpoint at facebook/wav2vec2-large-960h and are newly initialized: ['wav2vec2.masked_spec_embed']\n",
      "You should probably TRAIN this model on a down-stream task to be able to use it for predictions and inference.\n"
     ]
    },
    {
     "data": {
      "application/vnd.jupyter.widget-view+json": {
       "model_id": "9a8667c77d8746efba85d064d9b906aa",
       "version_major": 2,
       "version_minor": 0
      },
      "text/plain": [
       "model.safetensors:   0%|          | 0.00/1.26G [00:00<?, ?B/s]"
      ]
     },
     "metadata": {},
     "output_type": "display_data"
    },
    {
     "name": "stdout",
     "output_type": "stream",
     "text": [
      "torch.Size([1, 204, 32])\n",
      "torch.Size([1, 204])\n",
      "Transcription: LEARNED TO RECOGNIZE OMENS AND FOLLOW THEM THE OLD KING HAD SAID\n"
     ]
    }
   ],
   "source": [
    "# Load model and processor\n",
    "processor = Wav2Vec2Processor.from_pretrained(\"facebook/wav2vec2-large-960h\")\n",
    "model = Wav2Vec2ForCTC.from_pretrained(\"facebook/wav2vec2-large-960h\")\n",
    "\n",
    "# Load audio file using torchaudio\n",
    "audio_path = \"/content/drive/MyDrive/Colab Notebooks/wav2vec2-finetune/cv-valid-train/sample-000000.mp3\"\n",
    "waveform, sample_rate = torchaudio.load(audio_path)\n",
    "\n",
    "# Convert to 16kHz if necessary\n",
    "target_sample_rate = 16000\n",
    "if sample_rate != target_sample_rate:\n",
    "    transform = torchaudio.transforms.Resample(orig_freq=sample_rate, new_freq=target_sample_rate)\n",
    "    waveform = transform(waveform)\n",
    "\n",
    "# Convert to mono if necessary\n",
    "if waveform.shape[0] > 1:\n",
    "    waveform = torch.mean(waveform, dim=0, keepdim=True)\n",
    "\n",
    "# Extract features and tokenize input waveform\n",
    "input_values = processor(waveform.squeeze(0).numpy(), return_tensors=\"pt\", padding=\"longest\", sampling_rate=16000).input_values  # Batch size 1\n",
    "\n",
    "# Retrieve logits\n",
    "with torch.no_grad():\n",
    "    logits = model(input_values).logits\n",
    "\n",
    "# Take argmax and decode\n",
    "predicted_ids = torch.argmax(logits, dim=-1)\n",
    "transcription = processor.batch_decode(predicted_ids)\n",
    "\n",
    "print(logits.shape)\n",
    "print(predicted_ids.shape)\n",
    "print(\"Transcription:\", transcription[0])"
   ]
  },
  {
   "cell_type": "code",
   "execution_count": null,
   "id": "327e2612-1118-4875-a1e0-ad7cc9fe9bc8",
   "metadata": {
    "colab": {
     "base_uri": "https://localhost:8080/"
    },
    "executionInfo": {
     "elapsed": 5,
     "status": "ok",
     "timestamp": 1740290786489,
     "user": {
      "displayName": "Jin Kett Yee",
      "userId": "13564150855909515795"
     },
     "user_tz": 480
    },
    "id": "327e2612-1118-4875-a1e0-ad7cc9fe9bc8",
    "outputId": "bfa6ca9b-e3c1-4ced-9f15-2de81706f78d",
    "tags": []
   },
   "outputs": [
    {
     "name": "stdout",
     "output_type": "stream",
     "text": [
      "tensor([[[ 18.6475, -39.7736, -39.4599,  ...,  -6.2426,  -5.6364,  -6.2024],\n",
      "         [ 18.7760, -39.8917, -39.5482,  ...,  -6.2550,  -5.5862,  -6.2298],\n",
      "         [ 18.9603, -40.0529, -39.6960,  ...,  -6.2609,  -5.5758,  -6.1552],\n",
      "         ...,\n",
      "         [ 11.3003, -33.5959, -33.7693,  ...,  -7.0867, -10.1557,  -7.0605],\n",
      "         [ -0.6978, -21.9320, -22.0607,  ...,  -4.6589,  -6.6317,  -4.9041],\n",
      "         [ -3.5095, -17.5438, -17.5192,  ...,  -4.7125,  -5.1575,  -4.8318]]])\n"
     ]
    }
   ],
   "source": [
    "print(logits)"
   ]
  },
  {
   "cell_type": "code",
   "execution_count": null,
   "id": "2370e3f8-e6dc-4886-96e7-2003383f9f75",
   "metadata": {
    "colab": {
     "base_uri": "https://localhost:8080/"
    },
    "executionInfo": {
     "elapsed": 4,
     "status": "ok",
     "timestamp": 1740290786493,
     "user": {
      "displayName": "Jin Kett Yee",
      "userId": "13564150855909515795"
     },
     "user_tz": 480
    },
    "id": "2370e3f8-e6dc-4886-96e7-2003383f9f75",
    "outputId": "fed502d6-552b-4766-8f87-5939335c64f2",
    "tags": []
   },
   "outputs": [
    {
     "name": "stdout",
     "output_type": "stream",
     "text": [
      "tensor([[ 0,  0,  0,  0,  0,  0,  0,  0,  0,  0,  0,  0,  0,  0,  0,  0,  0,  0,\n",
      "          0,  0,  0,  0,  0,  0,  0,  0,  0,  0,  0,  0,  0, 15,  0,  5,  0,  7,\n",
      "         13, 13,  0,  9,  5,  0, 14,  4,  4,  6,  8,  4,  4,  4,  0,  0, 13,  5,\n",
      "          0,  0, 19, 19,  0,  0,  8,  0,  0, 21,  0,  0,  9,  0,  0,  0,  0, 10,\n",
      "          0,  0,  0,  0, 31,  5,  4,  4,  4,  4,  0,  0,  8,  8,  0,  0,  0,  0,\n",
      "         17,  0,  5,  0,  9,  9,  0,  0,  0,  0, 12,  4,  4,  7,  7,  9,  0, 14,\n",
      "          4,  4,  0,  0,  0,  0, 20,  0,  8,  0, 15,  0,  0,  0, 15,  8,  8, 18,\n",
      "          0,  0,  4,  4,  0,  6, 11, 11,  5,  0,  0,  0, 17,  0,  0,  0,  0,  4,\n",
      "          4,  4,  4,  4,  4,  4,  0,  0,  0,  0,  6, 11,  5,  0,  4,  0,  0,  0,\n",
      "          8,  0,  0, 15,  0, 14,  0,  4,  4,  0,  0, 26,  0, 10,  0,  9, 21, 21,\n",
      "          0,  4,  4, 11,  7, 14,  4,  4,  0,  0,  0,  0, 12,  0,  7,  7,  0, 10,\n",
      "          0,  0, 14,  4,  4,  4]])\n"
     ]
    }
   ],
   "source": [
    "print(predicted_ids)"
   ]
  },
  {
   "cell_type": "markdown",
   "id": "5e762d9a-b4cd-4b56-b4aa-ebc923c9c6e7",
   "metadata": {
    "id": "5e762d9a-b4cd-4b56-b4aa-ebc923c9c6e7"
   },
   "source": [
    "### Distribution Analysis of Train & Test sets (on accent, gender and age)\n",
    "- Distributions across dataset features are similar across train and test sets.\n",
    "- **Proposed sampling strategy:** Sample 2,000/6,300 records with same distribution across key feature: Accent. Stratified sampling approach to maintain key feature distributions in training set to match that of the validation and test set.\n",
    "  - **Results:** \"Off-order\" sampling strategy seems to lead to non-convergence during model fine-tuning (review). For now, test feature (\"accent\", \"gender\" and \"age\") distributions from direct sampling of 2000/6300 datapoints.\n",
    "\n",
    "#### Decisions & Implementations\n",
    "- Since first 2,000 records from train set has a sampling distribution similar to that of the test-set, we will keep the training set of 2,000 records.\n",
    "- *Review feature distributions in 6300 samples obtained from direct sampling.*\n",
    "- **Real-world applications:** The nuances of speech could be associated with regional factors. With stratified sampling of training data to fit distributions of key features in region of interest (eg. accents, nationality, gender proportions etc.), this could be a CI/CD implementation strategy to minimize data drift affecting model inferencing performance."
   ]
  },
  {
   "cell_type": "code",
   "execution_count": null,
   "id": "ea48299c-b9d5-4949-8e37-1aa1eb72499b",
   "metadata": {
    "colab": {
     "base_uri": "https://localhost:8080/",
     "height": 206
    },
    "executionInfo": {
     "elapsed": 1381,
     "status": "ok",
     "timestamp": 1740445820125,
     "user": {
      "displayName": "Jin Kett Yee",
      "userId": "13564150855909515795"
     },
     "user_tz": 480
    },
    "id": "ea48299c-b9d5-4949-8e37-1aa1eb72499b",
    "outputId": "0b952d39-7b4f-4e9a-879a-6c48a83aed37",
    "tags": []
   },
   "outputs": [
    {
     "data": {
      "application/vnd.google.colaboratory.intrinsic+json": {
       "summary": "{\n  \"name\": \"df\",\n  \"rows\": 2000,\n  \"fields\": [\n    {\n      \"column\": \"filename\",\n      \"properties\": {\n        \"dtype\": \"string\",\n        \"num_unique_values\": 2000,\n        \"samples\": [\n          \"cv-valid-train/sample-001860.mp3\",\n          \"cv-valid-train/sample-000353.mp3\",\n          \"cv-valid-train/sample-001333.mp3\"\n        ],\n        \"semantic_type\": \"\",\n        \"description\": \"\"\n      }\n    },\n    {\n      \"column\": \"text\",\n      \"properties\": {\n        \"dtype\": \"string\",\n        \"num_unique_values\": 1471,\n        \"samples\": [\n          \"but i sort of like him\",\n          \"they filled three sacks\",\n          \"it didn't even occur to the boy to flee\"\n        ],\n        \"semantic_type\": \"\",\n        \"description\": \"\"\n      }\n    },\n    {\n      \"column\": \"up_votes\",\n      \"properties\": {\n        \"dtype\": \"number\",\n        \"std\": 2,\n        \"min\": 1,\n        \"max\": 55,\n        \"num_unique_values\": 23,\n        \"samples\": [\n          35,\n          6,\n          1\n        ],\n        \"semantic_type\": \"\",\n        \"description\": \"\"\n      }\n    },\n    {\n      \"column\": \"down_votes\",\n      \"properties\": {\n        \"dtype\": \"number\",\n        \"std\": 0,\n        \"min\": 0,\n        \"max\": 14,\n        \"num_unique_values\": 7,\n        \"samples\": [\n          0,\n          2,\n          6\n        ],\n        \"semantic_type\": \"\",\n        \"description\": \"\"\n      }\n    },\n    {\n      \"column\": \"age\",\n      \"properties\": {\n        \"dtype\": \"category\",\n        \"num_unique_values\": 8,\n        \"samples\": [\n          \"seventies\",\n          \"fourties\",\n          \"twenties\"\n        ],\n        \"semantic_type\": \"\",\n        \"description\": \"\"\n      }\n    },\n    {\n      \"column\": \"gender\",\n      \"properties\": {\n        \"dtype\": \"category\",\n        \"num_unique_values\": 3,\n        \"samples\": [\n          \"female\",\n          \"male\",\n          \"other\"\n        ],\n        \"semantic_type\": \"\",\n        \"description\": \"\"\n      }\n    },\n    {\n      \"column\": \"accent\",\n      \"properties\": {\n        \"dtype\": \"category\",\n        \"num_unique_values\": 15,\n        \"samples\": [\n          \"african\",\n          \"wales\",\n          \"us\"\n        ],\n        \"semantic_type\": \"\",\n        \"description\": \"\"\n      }\n    },\n    {\n      \"column\": \"duration\",\n      \"properties\": {\n        \"dtype\": \"number\",\n        \"std\": null,\n        \"min\": null,\n        \"max\": null,\n        \"num_unique_values\": 0,\n        \"samples\": [],\n        \"semantic_type\": \"\",\n        \"description\": \"\"\n      }\n    }\n  ]\n}",
       "type": "dataframe",
       "variable_name": "df"
      },
      "text/html": [
       "\n",
       "  <div id=\"df-da650381-5d11-4bbc-b8c0-d46a356d4c9d\" class=\"colab-df-container\">\n",
       "    <div>\n",
       "<style scoped>\n",
       "    .dataframe tbody tr th:only-of-type {\n",
       "        vertical-align: middle;\n",
       "    }\n",
       "\n",
       "    .dataframe tbody tr th {\n",
       "        vertical-align: top;\n",
       "    }\n",
       "\n",
       "    .dataframe thead th {\n",
       "        text-align: right;\n",
       "    }\n",
       "</style>\n",
       "<table border=\"1\" class=\"dataframe\">\n",
       "  <thead>\n",
       "    <tr style=\"text-align: right;\">\n",
       "      <th></th>\n",
       "      <th>filename</th>\n",
       "      <th>text</th>\n",
       "      <th>up_votes</th>\n",
       "      <th>down_votes</th>\n",
       "      <th>age</th>\n",
       "      <th>gender</th>\n",
       "      <th>accent</th>\n",
       "      <th>duration</th>\n",
       "    </tr>\n",
       "  </thead>\n",
       "  <tbody>\n",
       "    <tr>\n",
       "      <th>0</th>\n",
       "      <td>cv-valid-train/sample-000000.mp3</td>\n",
       "      <td>learn to recognize omens and follow them the o...</td>\n",
       "      <td>1</td>\n",
       "      <td>0</td>\n",
       "      <td>NaN</td>\n",
       "      <td>NaN</td>\n",
       "      <td>NaN</td>\n",
       "      <td>NaN</td>\n",
       "    </tr>\n",
       "    <tr>\n",
       "      <th>1</th>\n",
       "      <td>cv-valid-train/sample-000001.mp3</td>\n",
       "      <td>everything in the universe evolved he said</td>\n",
       "      <td>1</td>\n",
       "      <td>0</td>\n",
       "      <td>NaN</td>\n",
       "      <td>NaN</td>\n",
       "      <td>NaN</td>\n",
       "      <td>NaN</td>\n",
       "    </tr>\n",
       "    <tr>\n",
       "      <th>2</th>\n",
       "      <td>cv-valid-train/sample-000002.mp3</td>\n",
       "      <td>you came so that you could learn about your dr...</td>\n",
       "      <td>1</td>\n",
       "      <td>0</td>\n",
       "      <td>NaN</td>\n",
       "      <td>NaN</td>\n",
       "      <td>NaN</td>\n",
       "      <td>NaN</td>\n",
       "    </tr>\n",
       "    <tr>\n",
       "      <th>3</th>\n",
       "      <td>cv-valid-train/sample-000003.mp3</td>\n",
       "      <td>so now i fear nothing because it was those ome...</td>\n",
       "      <td>1</td>\n",
       "      <td>0</td>\n",
       "      <td>NaN</td>\n",
       "      <td>NaN</td>\n",
       "      <td>NaN</td>\n",
       "      <td>NaN</td>\n",
       "    </tr>\n",
       "    <tr>\n",
       "      <th>4</th>\n",
       "      <td>cv-valid-train/sample-000004.mp3</td>\n",
       "      <td>if you start your emails with greetings let me...</td>\n",
       "      <td>3</td>\n",
       "      <td>2</td>\n",
       "      <td>NaN</td>\n",
       "      <td>NaN</td>\n",
       "      <td>NaN</td>\n",
       "      <td>NaN</td>\n",
       "    </tr>\n",
       "  </tbody>\n",
       "</table>\n",
       "</div>\n",
       "    <div class=\"colab-df-buttons\">\n",
       "\n",
       "  <div class=\"colab-df-container\">\n",
       "    <button class=\"colab-df-convert\" onclick=\"convertToInteractive('df-da650381-5d11-4bbc-b8c0-d46a356d4c9d')\"\n",
       "            title=\"Convert this dataframe to an interactive table.\"\n",
       "            style=\"display:none;\">\n",
       "\n",
       "  <svg xmlns=\"http://www.w3.org/2000/svg\" height=\"24px\" viewBox=\"0 -960 960 960\">\n",
       "    <path d=\"M120-120v-720h720v720H120Zm60-500h600v-160H180v160Zm220 220h160v-160H400v160Zm0 220h160v-160H400v160ZM180-400h160v-160H180v160Zm440 0h160v-160H620v160ZM180-180h160v-160H180v160Zm440 0h160v-160H620v160Z\"/>\n",
       "  </svg>\n",
       "    </button>\n",
       "\n",
       "  <style>\n",
       "    .colab-df-container {\n",
       "      display:flex;\n",
       "      gap: 12px;\n",
       "    }\n",
       "\n",
       "    .colab-df-convert {\n",
       "      background-color: #E8F0FE;\n",
       "      border: none;\n",
       "      border-radius: 50%;\n",
       "      cursor: pointer;\n",
       "      display: none;\n",
       "      fill: #1967D2;\n",
       "      height: 32px;\n",
       "      padding: 0 0 0 0;\n",
       "      width: 32px;\n",
       "    }\n",
       "\n",
       "    .colab-df-convert:hover {\n",
       "      background-color: #E2EBFA;\n",
       "      box-shadow: 0px 1px 2px rgba(60, 64, 67, 0.3), 0px 1px 3px 1px rgba(60, 64, 67, 0.15);\n",
       "      fill: #174EA6;\n",
       "    }\n",
       "\n",
       "    .colab-df-buttons div {\n",
       "      margin-bottom: 4px;\n",
       "    }\n",
       "\n",
       "    [theme=dark] .colab-df-convert {\n",
       "      background-color: #3B4455;\n",
       "      fill: #D2E3FC;\n",
       "    }\n",
       "\n",
       "    [theme=dark] .colab-df-convert:hover {\n",
       "      background-color: #434B5C;\n",
       "      box-shadow: 0px 1px 3px 1px rgba(0, 0, 0, 0.15);\n",
       "      filter: drop-shadow(0px 1px 2px rgba(0, 0, 0, 0.3));\n",
       "      fill: #FFFFFF;\n",
       "    }\n",
       "  </style>\n",
       "\n",
       "    <script>\n",
       "      const buttonEl =\n",
       "        document.querySelector('#df-da650381-5d11-4bbc-b8c0-d46a356d4c9d button.colab-df-convert');\n",
       "      buttonEl.style.display =\n",
       "        google.colab.kernel.accessAllowed ? 'block' : 'none';\n",
       "\n",
       "      async function convertToInteractive(key) {\n",
       "        const element = document.querySelector('#df-da650381-5d11-4bbc-b8c0-d46a356d4c9d');\n",
       "        const dataTable =\n",
       "          await google.colab.kernel.invokeFunction('convertToInteractive',\n",
       "                                                    [key], {});\n",
       "        if (!dataTable) return;\n",
       "\n",
       "        const docLinkHtml = 'Like what you see? Visit the ' +\n",
       "          '<a target=\"_blank\" href=https://colab.research.google.com/notebooks/data_table.ipynb>data table notebook</a>'\n",
       "          + ' to learn more about interactive tables.';\n",
       "        element.innerHTML = '';\n",
       "        dataTable['output_type'] = 'display_data';\n",
       "        await google.colab.output.renderOutput(dataTable, element);\n",
       "        const docLink = document.createElement('div');\n",
       "        docLink.innerHTML = docLinkHtml;\n",
       "        element.appendChild(docLink);\n",
       "      }\n",
       "    </script>\n",
       "  </div>\n",
       "\n",
       "\n",
       "<div id=\"df-d832dff4-9fdb-4524-b235-3658bb55a613\">\n",
       "  <button class=\"colab-df-quickchart\" onclick=\"quickchart('df-d832dff4-9fdb-4524-b235-3658bb55a613')\"\n",
       "            title=\"Suggest charts\"\n",
       "            style=\"display:none;\">\n",
       "\n",
       "<svg xmlns=\"http://www.w3.org/2000/svg\" height=\"24px\"viewBox=\"0 0 24 24\"\n",
       "     width=\"24px\">\n",
       "    <g>\n",
       "        <path d=\"M19 3H5c-1.1 0-2 .9-2 2v14c0 1.1.9 2 2 2h14c1.1 0 2-.9 2-2V5c0-1.1-.9-2-2-2zM9 17H7v-7h2v7zm4 0h-2V7h2v10zm4 0h-2v-4h2v4z\"/>\n",
       "    </g>\n",
       "</svg>\n",
       "  </button>\n",
       "\n",
       "<style>\n",
       "  .colab-df-quickchart {\n",
       "      --bg-color: #E8F0FE;\n",
       "      --fill-color: #1967D2;\n",
       "      --hover-bg-color: #E2EBFA;\n",
       "      --hover-fill-color: #174EA6;\n",
       "      --disabled-fill-color: #AAA;\n",
       "      --disabled-bg-color: #DDD;\n",
       "  }\n",
       "\n",
       "  [theme=dark] .colab-df-quickchart {\n",
       "      --bg-color: #3B4455;\n",
       "      --fill-color: #D2E3FC;\n",
       "      --hover-bg-color: #434B5C;\n",
       "      --hover-fill-color: #FFFFFF;\n",
       "      --disabled-bg-color: #3B4455;\n",
       "      --disabled-fill-color: #666;\n",
       "  }\n",
       "\n",
       "  .colab-df-quickchart {\n",
       "    background-color: var(--bg-color);\n",
       "    border: none;\n",
       "    border-radius: 50%;\n",
       "    cursor: pointer;\n",
       "    display: none;\n",
       "    fill: var(--fill-color);\n",
       "    height: 32px;\n",
       "    padding: 0;\n",
       "    width: 32px;\n",
       "  }\n",
       "\n",
       "  .colab-df-quickchart:hover {\n",
       "    background-color: var(--hover-bg-color);\n",
       "    box-shadow: 0 1px 2px rgba(60, 64, 67, 0.3), 0 1px 3px 1px rgba(60, 64, 67, 0.15);\n",
       "    fill: var(--button-hover-fill-color);\n",
       "  }\n",
       "\n",
       "  .colab-df-quickchart-complete:disabled,\n",
       "  .colab-df-quickchart-complete:disabled:hover {\n",
       "    background-color: var(--disabled-bg-color);\n",
       "    fill: var(--disabled-fill-color);\n",
       "    box-shadow: none;\n",
       "  }\n",
       "\n",
       "  .colab-df-spinner {\n",
       "    border: 2px solid var(--fill-color);\n",
       "    border-color: transparent;\n",
       "    border-bottom-color: var(--fill-color);\n",
       "    animation:\n",
       "      spin 1s steps(1) infinite;\n",
       "  }\n",
       "\n",
       "  @keyframes spin {\n",
       "    0% {\n",
       "      border-color: transparent;\n",
       "      border-bottom-color: var(--fill-color);\n",
       "      border-left-color: var(--fill-color);\n",
       "    }\n",
       "    20% {\n",
       "      border-color: transparent;\n",
       "      border-left-color: var(--fill-color);\n",
       "      border-top-color: var(--fill-color);\n",
       "    }\n",
       "    30% {\n",
       "      border-color: transparent;\n",
       "      border-left-color: var(--fill-color);\n",
       "      border-top-color: var(--fill-color);\n",
       "      border-right-color: var(--fill-color);\n",
       "    }\n",
       "    40% {\n",
       "      border-color: transparent;\n",
       "      border-right-color: var(--fill-color);\n",
       "      border-top-color: var(--fill-color);\n",
       "    }\n",
       "    60% {\n",
       "      border-color: transparent;\n",
       "      border-right-color: var(--fill-color);\n",
       "    }\n",
       "    80% {\n",
       "      border-color: transparent;\n",
       "      border-right-color: var(--fill-color);\n",
       "      border-bottom-color: var(--fill-color);\n",
       "    }\n",
       "    90% {\n",
       "      border-color: transparent;\n",
       "      border-bottom-color: var(--fill-color);\n",
       "    }\n",
       "  }\n",
       "</style>\n",
       "\n",
       "  <script>\n",
       "    async function quickchart(key) {\n",
       "      const quickchartButtonEl =\n",
       "        document.querySelector('#' + key + ' button');\n",
       "      quickchartButtonEl.disabled = true;  // To prevent multiple clicks.\n",
       "      quickchartButtonEl.classList.add('colab-df-spinner');\n",
       "      try {\n",
       "        const charts = await google.colab.kernel.invokeFunction(\n",
       "            'suggestCharts', [key], {});\n",
       "      } catch (error) {\n",
       "        console.error('Error during call to suggestCharts:', error);\n",
       "      }\n",
       "      quickchartButtonEl.classList.remove('colab-df-spinner');\n",
       "      quickchartButtonEl.classList.add('colab-df-quickchart-complete');\n",
       "    }\n",
       "    (() => {\n",
       "      let quickchartButtonEl =\n",
       "        document.querySelector('#df-d832dff4-9fdb-4524-b235-3658bb55a613 button');\n",
       "      quickchartButtonEl.style.display =\n",
       "        google.colab.kernel.accessAllowed ? 'block' : 'none';\n",
       "    })();\n",
       "  </script>\n",
       "</div>\n",
       "\n",
       "    </div>\n",
       "  </div>\n"
      ],
      "text/plain": [
       "                           filename  \\\n",
       "0  cv-valid-train/sample-000000.mp3   \n",
       "1  cv-valid-train/sample-000001.mp3   \n",
       "2  cv-valid-train/sample-000002.mp3   \n",
       "3  cv-valid-train/sample-000003.mp3   \n",
       "4  cv-valid-train/sample-000004.mp3   \n",
       "\n",
       "                                                text  up_votes  down_votes  \\\n",
       "0  learn to recognize omens and follow them the o...         1           0   \n",
       "1         everything in the universe evolved he said         1           0   \n",
       "2  you came so that you could learn about your dr...         1           0   \n",
       "3  so now i fear nothing because it was those ome...         1           0   \n",
       "4  if you start your emails with greetings let me...         3           2   \n",
       "\n",
       "   age gender accent  duration  \n",
       "0  NaN    NaN    NaN       NaN  \n",
       "1  NaN    NaN    NaN       NaN  \n",
       "2  NaN    NaN    NaN       NaN  \n",
       "3  NaN    NaN    NaN       NaN  \n",
       "4  NaN    NaN    NaN       NaN  "
      ]
     },
     "execution_count": 4,
     "metadata": {},
     "output_type": "execute_result"
    }
   ],
   "source": [
    "# import train df\n",
    "df = pd.read_csv(\"/content/drive/MyDrive/Colab Notebooks/wav2vec2-finetune/cv-valid-train.csv\")\n",
    "df.head()"
   ]
  },
  {
   "cell_type": "code",
   "execution_count": null,
   "id": "5f0c81f8-b2d4-43f1-9c62-2dc2d66e6cc5",
   "metadata": {
    "colab": {
     "base_uri": "https://localhost:8080/",
     "height": 206
    },
    "executionInfo": {
     "elapsed": 920,
     "status": "ok",
     "timestamp": 1740445821045,
     "user": {
      "displayName": "Jin Kett Yee",
      "userId": "13564150855909515795"
     },
     "user_tz": 480
    },
    "id": "5f0c81f8-b2d4-43f1-9c62-2dc2d66e6cc5",
    "outputId": "8ef046aa-d592-44d2-c356-307e4a84d5e1",
    "tags": []
   },
   "outputs": [
    {
     "data": {
      "application/vnd.google.colaboratory.intrinsic+json": {
       "summary": "{\n  \"name\": \"df_test\",\n  \"rows\": 3995,\n  \"fields\": [\n    {\n      \"column\": \"filename\",\n      \"properties\": {\n        \"dtype\": \"string\",\n        \"num_unique_values\": 3995,\n        \"samples\": [\n          \"cv-valid-test/sample-001760.mp3\",\n          \"cv-valid-test/sample-003015.mp3\",\n          \"cv-valid-test/sample-001770.mp3\"\n        ],\n        \"semantic_type\": \"\",\n        \"description\": \"\"\n      }\n    },\n    {\n      \"column\": \"text\",\n      \"properties\": {\n        \"dtype\": \"string\",\n        \"num_unique_values\": 2362,\n        \"samples\": [\n          \"to realize one's destiny is a person's only real obligation\",\n          \"the desert takes our men from us and they don't always return she said\",\n          \"the falcon's beak carries bits of me myself the desert said\"\n        ],\n        \"semantic_type\": \"\",\n        \"description\": \"\"\n      }\n    },\n    {\n      \"column\": \"up_votes\",\n      \"properties\": {\n        \"dtype\": \"number\",\n        \"std\": 4,\n        \"min\": 1,\n        \"max\": 254,\n        \"num_unique_values\": 32,\n        \"samples\": [\n          63,\n          11,\n          45\n        ],\n        \"semantic_type\": \"\",\n        \"description\": \"\"\n      }\n    },\n    {\n      \"column\": \"down_votes\",\n      \"properties\": {\n        \"dtype\": \"number\",\n        \"std\": 0,\n        \"min\": 0,\n        \"max\": 21,\n        \"num_unique_values\": 9,\n        \"samples\": [\n          21,\n          1,\n          3\n        ],\n        \"semantic_type\": \"\",\n        \"description\": \"\"\n      }\n    },\n    {\n      \"column\": \"age\",\n      \"properties\": {\n        \"dtype\": \"category\",\n        \"num_unique_values\": 8,\n        \"samples\": [\n          \"thirties\",\n          \"seventies\",\n          \"twenties\"\n        ],\n        \"semantic_type\": \"\",\n        \"description\": \"\"\n      }\n    },\n    {\n      \"column\": \"gender\",\n      \"properties\": {\n        \"dtype\": \"category\",\n        \"num_unique_values\": 3,\n        \"samples\": [\n          \"male\",\n          \"female\",\n          \"other\"\n        ],\n        \"semantic_type\": \"\",\n        \"description\": \"\"\n      }\n    },\n    {\n      \"column\": \"accent\",\n      \"properties\": {\n        \"dtype\": \"category\",\n        \"num_unique_values\": 16,\n        \"samples\": [\n          \"us\",\n          \"england\",\n          \"canada\"\n        ],\n        \"semantic_type\": \"\",\n        \"description\": \"\"\n      }\n    },\n    {\n      \"column\": \"duration\",\n      \"properties\": {\n        \"dtype\": \"number\",\n        \"std\": null,\n        \"min\": null,\n        \"max\": null,\n        \"num_unique_values\": 0,\n        \"samples\": [],\n        \"semantic_type\": \"\",\n        \"description\": \"\"\n      }\n    }\n  ]\n}",
       "type": "dataframe",
       "variable_name": "df_test"
      },
      "text/html": [
       "\n",
       "  <div id=\"df-59ae8151-528e-42e0-890f-cafe96a680de\" class=\"colab-df-container\">\n",
       "    <div>\n",
       "<style scoped>\n",
       "    .dataframe tbody tr th:only-of-type {\n",
       "        vertical-align: middle;\n",
       "    }\n",
       "\n",
       "    .dataframe tbody tr th {\n",
       "        vertical-align: top;\n",
       "    }\n",
       "\n",
       "    .dataframe thead th {\n",
       "        text-align: right;\n",
       "    }\n",
       "</style>\n",
       "<table border=\"1\" class=\"dataframe\">\n",
       "  <thead>\n",
       "    <tr style=\"text-align: right;\">\n",
       "      <th></th>\n",
       "      <th>filename</th>\n",
       "      <th>text</th>\n",
       "      <th>up_votes</th>\n",
       "      <th>down_votes</th>\n",
       "      <th>age</th>\n",
       "      <th>gender</th>\n",
       "      <th>accent</th>\n",
       "      <th>duration</th>\n",
       "    </tr>\n",
       "  </thead>\n",
       "  <tbody>\n",
       "    <tr>\n",
       "      <th>0</th>\n",
       "      <td>cv-valid-test/sample-000000.mp3</td>\n",
       "      <td>without the dataset the article is useless</td>\n",
       "      <td>1</td>\n",
       "      <td>0</td>\n",
       "      <td>NaN</td>\n",
       "      <td>NaN</td>\n",
       "      <td>NaN</td>\n",
       "      <td>NaN</td>\n",
       "    </tr>\n",
       "    <tr>\n",
       "      <th>1</th>\n",
       "      <td>cv-valid-test/sample-000001.mp3</td>\n",
       "      <td>i've got to go to him</td>\n",
       "      <td>1</td>\n",
       "      <td>0</td>\n",
       "      <td>twenties</td>\n",
       "      <td>male</td>\n",
       "      <td>NaN</td>\n",
       "      <td>NaN</td>\n",
       "    </tr>\n",
       "    <tr>\n",
       "      <th>2</th>\n",
       "      <td>cv-valid-test/sample-000002.mp3</td>\n",
       "      <td>and you know it</td>\n",
       "      <td>1</td>\n",
       "      <td>0</td>\n",
       "      <td>NaN</td>\n",
       "      <td>NaN</td>\n",
       "      <td>NaN</td>\n",
       "      <td>NaN</td>\n",
       "    </tr>\n",
       "    <tr>\n",
       "      <th>3</th>\n",
       "      <td>cv-valid-test/sample-000003.mp3</td>\n",
       "      <td>down below in the darkness were hundreds of pe...</td>\n",
       "      <td>4</td>\n",
       "      <td>0</td>\n",
       "      <td>twenties</td>\n",
       "      <td>male</td>\n",
       "      <td>us</td>\n",
       "      <td>NaN</td>\n",
       "    </tr>\n",
       "    <tr>\n",
       "      <th>4</th>\n",
       "      <td>cv-valid-test/sample-000004.mp3</td>\n",
       "      <td>hold your nose to keep the smell from disablin...</td>\n",
       "      <td>2</td>\n",
       "      <td>0</td>\n",
       "      <td>NaN</td>\n",
       "      <td>NaN</td>\n",
       "      <td>NaN</td>\n",
       "      <td>NaN</td>\n",
       "    </tr>\n",
       "  </tbody>\n",
       "</table>\n",
       "</div>\n",
       "    <div class=\"colab-df-buttons\">\n",
       "\n",
       "  <div class=\"colab-df-container\">\n",
       "    <button class=\"colab-df-convert\" onclick=\"convertToInteractive('df-59ae8151-528e-42e0-890f-cafe96a680de')\"\n",
       "            title=\"Convert this dataframe to an interactive table.\"\n",
       "            style=\"display:none;\">\n",
       "\n",
       "  <svg xmlns=\"http://www.w3.org/2000/svg\" height=\"24px\" viewBox=\"0 -960 960 960\">\n",
       "    <path d=\"M120-120v-720h720v720H120Zm60-500h600v-160H180v160Zm220 220h160v-160H400v160Zm0 220h160v-160H400v160ZM180-400h160v-160H180v160Zm440 0h160v-160H620v160ZM180-180h160v-160H180v160Zm440 0h160v-160H620v160Z\"/>\n",
       "  </svg>\n",
       "    </button>\n",
       "\n",
       "  <style>\n",
       "    .colab-df-container {\n",
       "      display:flex;\n",
       "      gap: 12px;\n",
       "    }\n",
       "\n",
       "    .colab-df-convert {\n",
       "      background-color: #E8F0FE;\n",
       "      border: none;\n",
       "      border-radius: 50%;\n",
       "      cursor: pointer;\n",
       "      display: none;\n",
       "      fill: #1967D2;\n",
       "      height: 32px;\n",
       "      padding: 0 0 0 0;\n",
       "      width: 32px;\n",
       "    }\n",
       "\n",
       "    .colab-df-convert:hover {\n",
       "      background-color: #E2EBFA;\n",
       "      box-shadow: 0px 1px 2px rgba(60, 64, 67, 0.3), 0px 1px 3px 1px rgba(60, 64, 67, 0.15);\n",
       "      fill: #174EA6;\n",
       "    }\n",
       "\n",
       "    .colab-df-buttons div {\n",
       "      margin-bottom: 4px;\n",
       "    }\n",
       "\n",
       "    [theme=dark] .colab-df-convert {\n",
       "      background-color: #3B4455;\n",
       "      fill: #D2E3FC;\n",
       "    }\n",
       "\n",
       "    [theme=dark] .colab-df-convert:hover {\n",
       "      background-color: #434B5C;\n",
       "      box-shadow: 0px 1px 3px 1px rgba(0, 0, 0, 0.15);\n",
       "      filter: drop-shadow(0px 1px 2px rgba(0, 0, 0, 0.3));\n",
       "      fill: #FFFFFF;\n",
       "    }\n",
       "  </style>\n",
       "\n",
       "    <script>\n",
       "      const buttonEl =\n",
       "        document.querySelector('#df-59ae8151-528e-42e0-890f-cafe96a680de button.colab-df-convert');\n",
       "      buttonEl.style.display =\n",
       "        google.colab.kernel.accessAllowed ? 'block' : 'none';\n",
       "\n",
       "      async function convertToInteractive(key) {\n",
       "        const element = document.querySelector('#df-59ae8151-528e-42e0-890f-cafe96a680de');\n",
       "        const dataTable =\n",
       "          await google.colab.kernel.invokeFunction('convertToInteractive',\n",
       "                                                    [key], {});\n",
       "        if (!dataTable) return;\n",
       "\n",
       "        const docLinkHtml = 'Like what you see? Visit the ' +\n",
       "          '<a target=\"_blank\" href=https://colab.research.google.com/notebooks/data_table.ipynb>data table notebook</a>'\n",
       "          + ' to learn more about interactive tables.';\n",
       "        element.innerHTML = '';\n",
       "        dataTable['output_type'] = 'display_data';\n",
       "        await google.colab.output.renderOutput(dataTable, element);\n",
       "        const docLink = document.createElement('div');\n",
       "        docLink.innerHTML = docLinkHtml;\n",
       "        element.appendChild(docLink);\n",
       "      }\n",
       "    </script>\n",
       "  </div>\n",
       "\n",
       "\n",
       "<div id=\"df-df6a632c-4d83-43a3-bdf8-0cbee4bfcc53\">\n",
       "  <button class=\"colab-df-quickchart\" onclick=\"quickchart('df-df6a632c-4d83-43a3-bdf8-0cbee4bfcc53')\"\n",
       "            title=\"Suggest charts\"\n",
       "            style=\"display:none;\">\n",
       "\n",
       "<svg xmlns=\"http://www.w3.org/2000/svg\" height=\"24px\"viewBox=\"0 0 24 24\"\n",
       "     width=\"24px\">\n",
       "    <g>\n",
       "        <path d=\"M19 3H5c-1.1 0-2 .9-2 2v14c0 1.1.9 2 2 2h14c1.1 0 2-.9 2-2V5c0-1.1-.9-2-2-2zM9 17H7v-7h2v7zm4 0h-2V7h2v10zm4 0h-2v-4h2v4z\"/>\n",
       "    </g>\n",
       "</svg>\n",
       "  </button>\n",
       "\n",
       "<style>\n",
       "  .colab-df-quickchart {\n",
       "      --bg-color: #E8F0FE;\n",
       "      --fill-color: #1967D2;\n",
       "      --hover-bg-color: #E2EBFA;\n",
       "      --hover-fill-color: #174EA6;\n",
       "      --disabled-fill-color: #AAA;\n",
       "      --disabled-bg-color: #DDD;\n",
       "  }\n",
       "\n",
       "  [theme=dark] .colab-df-quickchart {\n",
       "      --bg-color: #3B4455;\n",
       "      --fill-color: #D2E3FC;\n",
       "      --hover-bg-color: #434B5C;\n",
       "      --hover-fill-color: #FFFFFF;\n",
       "      --disabled-bg-color: #3B4455;\n",
       "      --disabled-fill-color: #666;\n",
       "  }\n",
       "\n",
       "  .colab-df-quickchart {\n",
       "    background-color: var(--bg-color);\n",
       "    border: none;\n",
       "    border-radius: 50%;\n",
       "    cursor: pointer;\n",
       "    display: none;\n",
       "    fill: var(--fill-color);\n",
       "    height: 32px;\n",
       "    padding: 0;\n",
       "    width: 32px;\n",
       "  }\n",
       "\n",
       "  .colab-df-quickchart:hover {\n",
       "    background-color: var(--hover-bg-color);\n",
       "    box-shadow: 0 1px 2px rgba(60, 64, 67, 0.3), 0 1px 3px 1px rgba(60, 64, 67, 0.15);\n",
       "    fill: var(--button-hover-fill-color);\n",
       "  }\n",
       "\n",
       "  .colab-df-quickchart-complete:disabled,\n",
       "  .colab-df-quickchart-complete:disabled:hover {\n",
       "    background-color: var(--disabled-bg-color);\n",
       "    fill: var(--disabled-fill-color);\n",
       "    box-shadow: none;\n",
       "  }\n",
       "\n",
       "  .colab-df-spinner {\n",
       "    border: 2px solid var(--fill-color);\n",
       "    border-color: transparent;\n",
       "    border-bottom-color: var(--fill-color);\n",
       "    animation:\n",
       "      spin 1s steps(1) infinite;\n",
       "  }\n",
       "\n",
       "  @keyframes spin {\n",
       "    0% {\n",
       "      border-color: transparent;\n",
       "      border-bottom-color: var(--fill-color);\n",
       "      border-left-color: var(--fill-color);\n",
       "    }\n",
       "    20% {\n",
       "      border-color: transparent;\n",
       "      border-left-color: var(--fill-color);\n",
       "      border-top-color: var(--fill-color);\n",
       "    }\n",
       "    30% {\n",
       "      border-color: transparent;\n",
       "      border-left-color: var(--fill-color);\n",
       "      border-top-color: var(--fill-color);\n",
       "      border-right-color: var(--fill-color);\n",
       "    }\n",
       "    40% {\n",
       "      border-color: transparent;\n",
       "      border-right-color: var(--fill-color);\n",
       "      border-top-color: var(--fill-color);\n",
       "    }\n",
       "    60% {\n",
       "      border-color: transparent;\n",
       "      border-right-color: var(--fill-color);\n",
       "    }\n",
       "    80% {\n",
       "      border-color: transparent;\n",
       "      border-right-color: var(--fill-color);\n",
       "      border-bottom-color: var(--fill-color);\n",
       "    }\n",
       "    90% {\n",
       "      border-color: transparent;\n",
       "      border-bottom-color: var(--fill-color);\n",
       "    }\n",
       "  }\n",
       "</style>\n",
       "\n",
       "  <script>\n",
       "    async function quickchart(key) {\n",
       "      const quickchartButtonEl =\n",
       "        document.querySelector('#' + key + ' button');\n",
       "      quickchartButtonEl.disabled = true;  // To prevent multiple clicks.\n",
       "      quickchartButtonEl.classList.add('colab-df-spinner');\n",
       "      try {\n",
       "        const charts = await google.colab.kernel.invokeFunction(\n",
       "            'suggestCharts', [key], {});\n",
       "      } catch (error) {\n",
       "        console.error('Error during call to suggestCharts:', error);\n",
       "      }\n",
       "      quickchartButtonEl.classList.remove('colab-df-spinner');\n",
       "      quickchartButtonEl.classList.add('colab-df-quickchart-complete');\n",
       "    }\n",
       "    (() => {\n",
       "      let quickchartButtonEl =\n",
       "        document.querySelector('#df-df6a632c-4d83-43a3-bdf8-0cbee4bfcc53 button');\n",
       "      quickchartButtonEl.style.display =\n",
       "        google.colab.kernel.accessAllowed ? 'block' : 'none';\n",
       "    })();\n",
       "  </script>\n",
       "</div>\n",
       "\n",
       "    </div>\n",
       "  </div>\n"
      ],
      "text/plain": [
       "                          filename  \\\n",
       "0  cv-valid-test/sample-000000.mp3   \n",
       "1  cv-valid-test/sample-000001.mp3   \n",
       "2  cv-valid-test/sample-000002.mp3   \n",
       "3  cv-valid-test/sample-000003.mp3   \n",
       "4  cv-valid-test/sample-000004.mp3   \n",
       "\n",
       "                                                text  up_votes  down_votes  \\\n",
       "0         without the dataset the article is useless         1           0   \n",
       "1                              i've got to go to him         1           0   \n",
       "2                                    and you know it         1           0   \n",
       "3  down below in the darkness were hundreds of pe...         4           0   \n",
       "4  hold your nose to keep the smell from disablin...         2           0   \n",
       "\n",
       "        age gender accent  duration  \n",
       "0       NaN    NaN    NaN       NaN  \n",
       "1  twenties   male    NaN       NaN  \n",
       "2       NaN    NaN    NaN       NaN  \n",
       "3  twenties   male     us       NaN  \n",
       "4       NaN    NaN    NaN       NaN  "
      ]
     },
     "execution_count": 5,
     "metadata": {},
     "output_type": "execute_result"
    }
   ],
   "source": [
    "# Import test df\n",
    "df_test = pd.read_csv(\"/content/drive/MyDrive/Colab Notebooks/wav2vec2-finetune/cv-valid-test.csv\")\n",
    "df_test.head()"
   ]
  },
  {
   "cell_type": "code",
   "execution_count": null,
   "id": "5F-VuacuQg5i",
   "metadata": {
    "colab": {
     "base_uri": "https://localhost:8080/",
     "height": 272
    },
    "executionInfo": {
     "elapsed": 12,
     "status": "ok",
     "timestamp": 1740447053714,
     "user": {
      "displayName": "Jin Kett Yee",
      "userId": "13564150855909515795"
     },
     "user_tz": 480
    },
    "id": "5F-VuacuQg5i",
    "outputId": "81a05bc7-7876-442e-df2e-1a929d04229a"
   },
   "outputs": [
    {
     "data": {
      "text/html": [
       "<div>\n",
       "<style scoped>\n",
       "    .dataframe tbody tr th:only-of-type {\n",
       "        vertical-align: middle;\n",
       "    }\n",
       "\n",
       "    .dataframe tbody tr th {\n",
       "        vertical-align: top;\n",
       "    }\n",
       "\n",
       "    .dataframe thead th {\n",
       "        text-align: right;\n",
       "    }\n",
       "</style>\n",
       "<table border=\"1\" class=\"dataframe\">\n",
       "  <thead>\n",
       "    <tr style=\"text-align: right;\">\n",
       "      <th></th>\n",
       "      <th>proportion</th>\n",
       "    </tr>\n",
       "    <tr>\n",
       "      <th>accent</th>\n",
       "      <th></th>\n",
       "    </tr>\n",
       "  </thead>\n",
       "  <tbody>\n",
       "    <tr>\n",
       "      <th>missing</th>\n",
       "      <td>0.6845</td>\n",
       "    </tr>\n",
       "    <tr>\n",
       "      <th>us</th>\n",
       "      <td>0.1355</td>\n",
       "    </tr>\n",
       "    <tr>\n",
       "      <th>england</th>\n",
       "      <td>0.0775</td>\n",
       "    </tr>\n",
       "    <tr>\n",
       "      <th>canada</th>\n",
       "      <td>0.0250</td>\n",
       "    </tr>\n",
       "    <tr>\n",
       "      <th>indian</th>\n",
       "      <td>0.0235</td>\n",
       "    </tr>\n",
       "  </tbody>\n",
       "</table>\n",
       "</div><br><label><b>dtype:</b> float64</label>"
      ],
      "text/plain": [
       "accent\n",
       "missing    0.6845\n",
       "us         0.1355\n",
       "england    0.0775\n",
       "canada     0.0250\n",
       "indian     0.0235\n",
       "Name: proportion, dtype: float64"
      ]
     },
     "execution_count": 30,
     "metadata": {},
     "output_type": "execute_result"
    }
   ],
   "source": [
    "# Review categorical proportions of age, gender and accent\n",
    "df[\"accent\"].value_counts(normalize=True).head(5)"
   ]
  },
  {
   "cell_type": "code",
   "execution_count": null,
   "id": "q6RS38OyQkRJ",
   "metadata": {
    "colab": {
     "base_uri": "https://localhost:8080/",
     "height": 272
    },
    "executionInfo": {
     "elapsed": 20,
     "status": "ok",
     "timestamp": 1740445821109,
     "user": {
      "displayName": "Jin Kett Yee",
      "userId": "13564150855909515795"
     },
     "user_tz": 480
    },
    "id": "q6RS38OyQkRJ",
    "outputId": "00ae2b85-5235-41b9-a437-8380793b3922"
   },
   "outputs": [
    {
     "data": {
      "text/html": [
       "<div>\n",
       "<style scoped>\n",
       "    .dataframe tbody tr th:only-of-type {\n",
       "        vertical-align: middle;\n",
       "    }\n",
       "\n",
       "    .dataframe tbody tr th {\n",
       "        vertical-align: top;\n",
       "    }\n",
       "\n",
       "    .dataframe thead th {\n",
       "        text-align: right;\n",
       "    }\n",
       "</style>\n",
       "<table border=\"1\" class=\"dataframe\">\n",
       "  <thead>\n",
       "    <tr style=\"text-align: right;\">\n",
       "      <th></th>\n",
       "      <th>proportion</th>\n",
       "    </tr>\n",
       "    <tr>\n",
       "      <th>accent</th>\n",
       "      <th></th>\n",
       "    </tr>\n",
       "  </thead>\n",
       "  <tbody>\n",
       "    <tr>\n",
       "      <th>us</th>\n",
       "      <td>0.473094</td>\n",
       "    </tr>\n",
       "    <tr>\n",
       "      <th>england</th>\n",
       "      <td>0.223468</td>\n",
       "    </tr>\n",
       "    <tr>\n",
       "      <th>canada</th>\n",
       "      <td>0.076233</td>\n",
       "    </tr>\n",
       "    <tr>\n",
       "      <th>australia</th>\n",
       "      <td>0.069507</td>\n",
       "    </tr>\n",
       "    <tr>\n",
       "      <th>indian</th>\n",
       "      <td>0.068012</td>\n",
       "    </tr>\n",
       "  </tbody>\n",
       "</table>\n",
       "</div><br><label><b>dtype:</b> float64</label>"
      ],
      "text/plain": [
       "accent\n",
       "us           0.473094\n",
       "england      0.223468\n",
       "canada       0.076233\n",
       "australia    0.069507\n",
       "indian       0.068012\n",
       "Name: proportion, dtype: float64"
      ]
     },
     "execution_count": 7,
     "metadata": {},
     "output_type": "execute_result"
    }
   ],
   "source": [
    "# Review categorical proportions of age, gender and accent\n",
    "df_test[\"accent\"].value_counts(normalize=True).head(5)"
   ]
  },
  {
   "cell_type": "markdown",
   "id": "670580fc-9362-45b3-a882-fc638e5fdce7",
   "metadata": {
    "id": "670580fc-9362-45b3-a882-fc638e5fdce7"
   },
   "source": [
    "### Fine-tune Model\n",
    "**Model Intuition:**\n",
    "- Contrastive learning is like \"spot the difference\". It teaches a model to recognize similar and different representations by transforming the same input in two ways. In Wav2Vec 2.0, one version is processed through transformer layers, while the other is converted into discrete code representations (quantization). The model learns to match the correct pairs while distinguishing them from incorrect ones, enabling it to understand speech patterns without labeled data.\n",
    "- \"for a masked latent representation zₜ, we would like to get such a context representation cₜ to be able to guess the correct quantized representation qₜ\"\n",
    "- The model learns contextualized speech representations by randomly masking feature vectors zₜ before passing them to a transformer network. In this way, contextualized representations cₜ (features) are trained on quantized representations qₜ (label).\n",
    "\n",
    "**Loss function:**\n",
    "- **Training objectives:** Contrastive & Diversity loss\n",
    "- **Fine-tuning objective:** Connectionist Temporal Classification (CTC) loss and a modified version of SpecAugment\n",
    "\n",
    "**Fine-tuning approach:**\n",
    "- Fine-tuning of model is shown to require very low amounts of training data. \"When fine-tuning the model on Libri Speech dataset, using only 10 minutes of labeled training data, which is almost no data, resulted in 4.8% / 8.2% WER on test-clean / test-other subsets of Libri Speech.\" (Sus, 2021)\n",
    "- We opted to use a train-validation split of 6,300 data points (with 80:20 ratio) for fine-tuning, which amasses to approximately > 210 minutes of speech datapoints.\n",
    "- **Note:** A train-test split with 70:30 ratio (random state 42) leads to stagnation of WER metrics during training, need to investigate further. **For question answering purposes, a train-test split of 70:30 ratio was used for fine-tuning of our model on 2,000 data points.**\n",
    "\n",
    "**Evaluation Metrics:**\n",
    "1. Word Error Rate (WER)\n",
    "    - https://huggingface.co/spaces/evaluate-metric/wer\n",
    "    - WER = (S + D + I) / N = (S + D + I) / (S + D + C)\n",
    "    - Where S is the number of substitutions, D is the number of deletions, I is the number of insertions, C is the number of correct words, N is the number of words in the reference (N=S+D+C).\n",
    "    - This value indicates the average number of errors per reference word. The lower the value, the better the performance of the ASR system with a WER of 0 being a perfect score.\n",
    "2. Character Error Rate (CER)\n",
    "    - https://huggingface.co/learn/audio-course/chapter5/evaluation\n",
    "    - Similar to WER but computed on character-level: Same formula done on character-level\n",
    "    - CER penalizes the spelling errors much less as compared to WER. However, WER evaluates the system's ability to learn more about the context of predictions (in English language). Thus, is more widely used to access the performance of speech systems."
   ]
  },
  {
   "cell_type": "code",
   "execution_count": null,
   "id": "7jOI_fz3bJQn",
   "metadata": {
    "id": "7jOI_fz3bJQn"
   },
   "outputs": [],
   "source": [
    "# ======================\n",
    "# 1. SET PATHS & LOAD CSV\n",
    "# ======================\n",
    "audio_folder = \"/content/drive/MyDrive/Colab Notebooks/wav2vec2-finetune/cv-valid-train6300\"\n",
    "csv_path = \"/content/drive/MyDrive/Colab Notebooks/wav2vec2-finetune/cv-valid-train6300.csv\"\n",
    "\n",
    "df = pd.read_csv(csv_path)\n",
    "\n",
    "# Implement stratified sampling approach\n",
    "# Input 'missing' to NaN values for \"accent\" and \"gender\"\n",
    "df[\"accent\"] = df[\"accent\"].fillna(\"missing\")\n",
    "\n",
    "# Map HK accent to SG as grouped count is one and train-test-split only allows grouped counts > 1\n",
    "# df.loc[df[\"accent\"] == \"hongkong\", \"accent\"] = \"singapore\"\n",
    "\n",
    "# Train test split with ratio (80:20). Stratify on accent.\n",
    "train_df, valid_df = train_test_split(df, test_size=0.2, stratify=df[\"accent\"], random_state=42)"
   ]
  },
  {
   "cell_type": "code",
   "execution_count": null,
   "id": "dTdb07bkbKeM",
   "metadata": {
    "colab": {
     "base_uri": "https://localhost:8080/"
    },
    "executionInfo": {
     "elapsed": 599,
     "status": "ok",
     "timestamp": 1740566989230,
     "user": {
      "displayName": "Jin Kett Yee",
      "userId": "13564150855909515795"
     },
     "user_tz": 480
    },
    "id": "dTdb07bkbKeM",
    "outputId": "679d14a4-29b4-43b0-dc9e-5e297537048a"
   },
   "outputs": [
    {
     "name": "stdout",
     "output_type": "stream",
     "text": [
      "DatasetDict({\n",
      "    train: Dataset({\n",
      "        features: ['path', 'text'],\n",
      "        num_rows: 5040\n",
      "    })\n",
      "    validation: Dataset({\n",
      "        features: ['path', 'text'],\n",
      "        num_rows: 1260\n",
      "    })\n",
      "})\n"
     ]
    }
   ],
   "source": [
    "# ======================\n",
    "# 2. CREATE HUGGING FACE DATASETS\n",
    "# ======================\n",
    "# We'll store \"path\" and \"text\" in the dataset, then load audio once.\n",
    "# Each row must have at least: { \"path\": ..., \"text\": ... }\n",
    "\n",
    "def create_dataset(subdf):\n",
    "    \"\"\"\n",
    "    Convert a pandas DataFrame with columns ['filename', 'text']\n",
    "    into a Hugging Face Dataset with columns ['path', 'text'].\n",
    "    We'll store the absolute path, so we can load audio in map().\n",
    "    \"\"\"\n",
    "    records = []\n",
    "    for _, row in subdf.iterrows():\n",
    "        filename = row[\"filename\"]\n",
    "        text = row[\"text\"]\n",
    "        # Build the absolute path to the MP3 file\n",
    "        file_path = os.path.join(audio_folder, os.path.basename(filename))\n",
    "        records.append({\"path\": file_path, \"text\": text})\n",
    "    return Dataset.from_list(records)\n",
    "\n",
    "raw_dataset = DatasetDict({\n",
    "    \"train\": create_dataset(train_df),\n",
    "    \"validation\": create_dataset(valid_df),\n",
    "})\n",
    "\n",
    "print(raw_dataset)"
   ]
  },
  {
   "cell_type": "markdown",
   "id": "9_ddRId5H7Te",
   "metadata": {
    "id": "9_ddRId5H7Te"
   },
   "source": [
    "### Preprocessing steps:\n",
    "- \"audio\" feature missing for this dataset, hence we need to manually pull audio files from folder and, convert waveforms to one-dimensional array and resamples it to 16KHZ (if needed) before processing to the correct training format\n",
    "- Normalize and convert waveform to tensors (for wav2vec2 model input format)\n",
    "  - Apply Wav2Vec2 Feature Extractor\n",
    "- Convert text to tokenized labels (for wav2vec2 model input format)\n",
    "  - Remove special characters, build vocab, save to json, add padding token that corresponds to CTC blank token and initialize tokenizer.\n",
    "  - Apply tokenizer to \"text\" column to generate labels.\n",
    "- **Custom Data Collator class:** This custom data collator ensures that both the input features (from audio data) and the target labels (transcriptions) are appropriately padded to facilitate efficient batch processing.\n",
    "  - Dynamically pads variable-length audio inputs and transcriptions in a batch to ensure uniform tensor shapes for efficient processing. It integrates with the Wav2Vec2Processor to handle padding for both input_values (audio features) and labels (tokenized transcriptions), replacing padding tokens in labels with -100 to be ignored during loss computation."
   ]
  },
  {
   "cell_type": "code",
   "execution_count": null,
   "id": "6i8HZIW8A94T",
   "metadata": {
    "colab": {
     "base_uri": "https://localhost:8080/",
     "height": 362
    },
    "executionInfo": {
     "elapsed": 16,
     "status": "ok",
     "timestamp": 1740566989248,
     "user": {
      "displayName": "Jin Kett Yee",
      "userId": "13564150855909515795"
     },
     "user_tz": 480
    },
    "id": "6i8HZIW8A94T",
    "outputId": "0183938a-f1dc-413f-95f0-4b1c2ead659f"
   },
   "outputs": [
    {
     "data": {
      "text/html": [
       "<table border=\"1\" class=\"dataframe\">\n",
       "  <thead>\n",
       "    <tr style=\"text-align: right;\">\n",
       "      <th></th>\n",
       "      <th>text</th>\n",
       "    </tr>\n",
       "  </thead>\n",
       "  <tbody>\n",
       "    <tr>\n",
       "      <th>0</th>\n",
       "      <td>i hate to think that i will have to leave but i guess thats not really up to me</td>\n",
       "    </tr>\n",
       "    <tr>\n",
       "      <th>1</th>\n",
       "      <td>the heather was on fire and you could see a thin blue smoke rising up slowly</td>\n",
       "    </tr>\n",
       "    <tr>\n",
       "      <th>2</th>\n",
       "      <td>did you want to see her about something important</td>\n",
       "    </tr>\n",
       "    <tr>\n",
       "      <th>3</th>\n",
       "      <td>you point to a trail of ants leading into the house</td>\n",
       "    </tr>\n",
       "    <tr>\n",
       "      <th>4</th>\n",
       "      <td>about eleven i walked back to my home in maybury because nothing seemed to be happening</td>\n",
       "    </tr>\n",
       "    <tr>\n",
       "      <th>5</th>\n",
       "      <td>to calibrate the motion capturing system please do a tpose</td>\n",
       "    </tr>\n",
       "    <tr>\n",
       "      <th>6</th>\n",
       "      <td>the monk laughed when he saw me come back in tatters</td>\n",
       "    </tr>\n",
       "    <tr>\n",
       "      <th>7</th>\n",
       "      <td>that he wanted to travel</td>\n",
       "    </tr>\n",
       "    <tr>\n",
       "      <th>8</th>\n",
       "      <td>'m all about those invisible cosmic connections that transcend time and distance</td>\n",
       "    </tr>\n",
       "    <tr>\n",
       "      <th>9</th>\n",
       "      <td>and one or two persons were returning</td>\n",
       "    </tr>\n",
       "  </tbody>\n",
       "</table>"
      ],
      "text/plain": [
       "<IPython.core.display.HTML object>"
      ]
     },
     "metadata": {},
     "output_type": "display_data"
    }
   ],
   "source": [
    "# ======================\n",
    "# 2.1. PREPARE TOKENIZER & FEATURE EXTRACTOR\n",
    "# ======================\n",
    "'''Sequence adapted from example notebook: https://colab.research.google.com/github/patrickvonplaten/notebooks/blob/master/Fine_tuning_Wav2Vec2_for_English_ASR.ipynb#scrollTo=K_JUmf3G3b9S'''\n",
    "\n",
    "from datasets import ClassLabel\n",
    "import random\n",
    "import pandas as pd\n",
    "from IPython.display import display, HTML\n",
    "\n",
    "def show_random_elements(dataset, num_examples=10):\n",
    "    assert num_examples <= len(dataset), \"Can't pick more elements than there are in the dataset.\"\n",
    "    picks = []\n",
    "    for _ in range(num_examples):\n",
    "        pick = random.randint(0, len(dataset)-1)\n",
    "        while pick in picks:\n",
    "            pick = random.randint(0, len(dataset)-1)\n",
    "        picks.append(pick)\n",
    "\n",
    "    df = pd.DataFrame(dataset[picks])\n",
    "    display(HTML(df.to_html()))\n",
    "\n",
    "show_random_elements(raw_dataset[\"train\"].remove_columns([\"path\"]), num_examples=10)"
   ]
  },
  {
   "cell_type": "code",
   "execution_count": null,
   "id": "-1JHHY-MBrT5",
   "metadata": {
    "colab": {
     "base_uri": "https://localhost:8080/",
     "height": 81,
     "referenced_widgets": [
      "8934069455fa4e2e810ea36dd5a54e3b",
      "3829baabcb134b728efa7eb18fea9479",
      "d0c7272f35b74428b28f17355203e379",
      "26cd9a68bc1549818544e6598c476f3e",
      "b4757c4763424f65a7ed4fe1384281bb",
      "3d85eb28409a4ffa81052511a9c9526f",
      "1fc72525573044bf9c08b9711eb97cfb",
      "7629bf45967549f7833d4929af5eb1d8",
      "ac33d538b546445f9cca012f6e412412",
      "79f9c0d92a0744479e6a6d49af1ec642",
      "caaf52b687d84379919917e64fb953fd",
      "a26e32a22fd74b819be6bb55333f38d4",
      "6337d5c257d947738fd44d39913a3e93",
      "75a914da9c4444bcbc255b854a577a1b",
      "627944c6b06e48fbb53874d1cbc5e3b9",
      "cb237d98201f4c22b5ad7b97e9e38dab",
      "41e0838775a34e6482c170e36614a06e",
      "defeb9eea923469ba0790c6ac7bc9a8c",
      "3df730c7bd0e48a2b4ea50acde0c85eb",
      "609ba3c2fc5148e38bed7d63170fad4d",
      "7eb6bad95adb4c6e917d87d9989a800f",
      "a7df94d436884af9b5d7caefa5ffd4dd"
     ]
    },
    "executionInfo": {
     "elapsed": 874,
     "status": "ok",
     "timestamp": 1740566990131,
     "user": {
      "displayName": "Jin Kett Yee",
      "userId": "13564150855909515795"
     },
     "user_tz": 480
    },
    "id": "-1JHHY-MBrT5",
    "outputId": "c4baa3fe-8895-4963-aac9-795b4d342f6e"
   },
   "outputs": [
    {
     "data": {
      "application/vnd.jupyter.widget-view+json": {
       "model_id": "8934069455fa4e2e810ea36dd5a54e3b",
       "version_major": 2,
       "version_minor": 0
      },
      "text/plain": [
       "Map:   0%|          | 0/5040 [00:00<?, ? examples/s]"
      ]
     },
     "metadata": {},
     "output_type": "display_data"
    },
    {
     "data": {
      "application/vnd.jupyter.widget-view+json": {
       "model_id": "a26e32a22fd74b819be6bb55333f38d4",
       "version_major": 2,
       "version_minor": 0
      },
      "text/plain": [
       "Map:   0%|          | 0/1260 [00:00<?, ? examples/s]"
      ]
     },
     "metadata": {},
     "output_type": "display_data"
    }
   ],
   "source": [
    "import re\n",
    "\n",
    "# Remove special characters\n",
    "chars_to_ignore_regex = '[\\,\\?\\.\\!\\-\\;\\:\\\"]'\n",
    "\n",
    "def remove_special_characters(batch):\n",
    "    batch[\"text\"] = re.sub(chars_to_ignore_regex, '', batch[\"text\"]).lower() + \" \"\n",
    "    return batch\n",
    "raw_dataset = raw_dataset.map(remove_special_characters)"
   ]
  },
  {
   "cell_type": "code",
   "execution_count": null,
   "id": "2ANZUOadCTgL",
   "metadata": {
    "colab": {
     "base_uri": "https://localhost:8080/",
     "height": 567,
     "referenced_widgets": [
      "ec953047512f46ee9ca560cddc849508",
      "76a7467c2f13464ca5c0d8598e0e0a70",
      "14ffd0b4b1564d56af847a29643cb3c7",
      "33aa0f73d00e4af5ac6a71b6b0c8b102",
      "2bc03f394192465eae14a236b63fb42e",
      "006f8f3ea3194ab591b8beeb4b331b55",
      "8f9754d4056c4bbaa485d0957a6b55fa",
      "191f4251df4f4219b10952fd18ffa0f2",
      "022d080fd3214e0ab338929f182120e1",
      "ef04bbc094c545ae9f0020b62ff0a59e",
      "e665111feb5f402784c390118408e0fd",
      "f9e54b1ec6d44d7295323a86ef5fb560",
      "f9f0ad2b772345dbb2e74dc02e3f555d",
      "1ee29fafd543454d8d29c6fddca596a0",
      "767ecc7c1aa04878b0a719125a405b8b",
      "6b91cd4e9b9e4fda948d00762224bd9a",
      "865e311528d342c38e86bc880752b551",
      "15c9627ef4134d8a9b190e4ac1390431",
      "458d7af7fef94726afe64c79087145c9",
      "8e64e6a7bc4448d0a0ac1d0f1e2e638d",
      "4fb4871c8a2a48d1afe22ab24f122987",
      "f0c8ccfdd5be4efd893dab35e6bf2928"
     ]
    },
    "collapsed": true,
    "executionInfo": {
     "elapsed": 160,
     "status": "ok",
     "timestamp": 1740566990295,
     "user": {
      "displayName": "Jin Kett Yee",
      "userId": "13564150855909515795"
     },
     "user_tz": 480
    },
    "id": "2ANZUOadCTgL",
    "jupyter": {
     "outputs_hidden": true
    },
    "outputId": "cb12c19f-dc25-4e1d-9705-1ee33f3b459e",
    "tags": []
   },
   "outputs": [
    {
     "data": {
      "application/vnd.jupyter.widget-view+json": {
       "model_id": "ec953047512f46ee9ca560cddc849508",
       "version_major": 2,
       "version_minor": 0
      },
      "text/plain": [
       "Map:   0%|          | 0/5040 [00:00<?, ? examples/s]"
      ]
     },
     "metadata": {},
     "output_type": "display_data"
    },
    {
     "data": {
      "application/vnd.jupyter.widget-view+json": {
       "model_id": "f9e54b1ec6d44d7295323a86ef5fb560",
       "version_major": 2,
       "version_minor": 0
      },
      "text/plain": [
       "Map:   0%|          | 0/1260 [00:00<?, ? examples/s]"
      ]
     },
     "metadata": {},
     "output_type": "display_data"
    },
    {
     "data": {
      "text/plain": [
       "{'e': 0,\n",
       " 'w': 1,\n",
       " 'z': 2,\n",
       " 'k': 3,\n",
       " 'c': 4,\n",
       " 'u': 5,\n",
       " 'r': 6,\n",
       " 'o': 7,\n",
       " 'n': 8,\n",
       " 'x': 9,\n",
       " 'l': 10,\n",
       " 'h': 11,\n",
       " 'j': 12,\n",
       " 'f': 13,\n",
       " 's': 14,\n",
       " 'y': 15,\n",
       " \"'\": 16,\n",
       " 'i': 17,\n",
       " 'd': 18,\n",
       " 'g': 19,\n",
       " ' ': 20,\n",
       " 'm': 21,\n",
       " 'a': 22,\n",
       " 'q': 23,\n",
       " 't': 24,\n",
       " 'v': 25,\n",
       " 'b': 26,\n",
       " 'p': 27}"
      ]
     },
     "execution_count": 8,
     "metadata": {},
     "output_type": "execute_result"
    }
   ],
   "source": [
    "# Extract all characters to build tokenizer\n",
    "def extract_all_chars(batch):\n",
    "  all_text = \" \".join(batch[\"text\"])\n",
    "  vocab = list(set(all_text))\n",
    "  return {\"vocab\": [vocab], \"all_text\": [all_text]}\n",
    "\n",
    "vocabs = raw_dataset.map(extract_all_chars, batched=True, batch_size=-1, keep_in_memory=True, remove_columns=raw_dataset.column_names[\"train\"])\n",
    "vocab_list = list(set(vocabs[\"train\"][\"vocab\"][0]) | set(vocabs[\"validation\"][\"vocab\"][0]))\n",
    "\n",
    "# Build vocab dict\n",
    "vocab_dict = {v: k for k, v in enumerate(vocab_list)}\n",
    "vocab_dict"
   ]
  },
  {
   "cell_type": "code",
   "execution_count": null,
   "id": "7YMiM5p9C-nt",
   "metadata": {
    "colab": {
     "base_uri": "https://localhost:8080/"
    },
    "executionInfo": {
     "elapsed": 20,
     "status": "ok",
     "timestamp": 1740566990315,
     "user": {
      "displayName": "Jin Kett Yee",
      "userId": "13564150855909515795"
     },
     "user_tz": 480
    },
    "id": "7YMiM5p9C-nt",
    "outputId": "a4c1f3c1-5018-4404-a1c0-bbe38f1c21e2",
    "tags": []
   },
   "outputs": [
    {
     "data": {
      "text/plain": [
       "{'e': 0,\n",
       " 'w': 1,\n",
       " 'z': 2,\n",
       " 'k': 3,\n",
       " 'c': 4,\n",
       " 'u': 5,\n",
       " 'r': 6,\n",
       " 'o': 7,\n",
       " 'n': 8,\n",
       " 'x': 9,\n",
       " 'l': 10,\n",
       " 'h': 11,\n",
       " 'j': 12,\n",
       " 'f': 13,\n",
       " 's': 14,\n",
       " 'y': 15,\n",
       " \"'\": 16,\n",
       " 'i': 17,\n",
       " 'd': 18,\n",
       " 'g': 19,\n",
       " 'm': 21,\n",
       " 'a': 22,\n",
       " 'q': 23,\n",
       " 't': 24,\n",
       " 'v': 25,\n",
       " 'b': 26,\n",
       " 'p': 27,\n",
       " '|': 20}"
      ]
     },
     "execution_count": 9,
     "metadata": {},
     "output_type": "execute_result"
    }
   ],
   "source": [
    "# Add padding token that corresponds to CTC's blank token\n",
    "vocab_dict[\"|\"] = vocab_dict[\" \"]\n",
    "del vocab_dict[\" \"]\n",
    "vocab_dict"
   ]
  },
  {
   "cell_type": "code",
   "execution_count": null,
   "id": "dKBSTERlDPYJ",
   "metadata": {
    "colab": {
     "base_uri": "https://localhost:8080/"
    },
    "executionInfo": {
     "elapsed": 2,
     "status": "ok",
     "timestamp": 1740566990318,
     "user": {
      "displayName": "Jin Kett Yee",
      "userId": "13564150855909515795"
     },
     "user_tz": 480
    },
    "id": "dKBSTERlDPYJ",
    "outputId": "99f0fd8f-d6bf-4ec8-abb7-e0e64a2696e8"
   },
   "outputs": [
    {
     "data": {
      "text/plain": [
       "30"
      ]
     },
     "execution_count": 10,
     "metadata": {},
     "output_type": "execute_result"
    }
   ],
   "source": [
    "vocab_dict[\"[UNK]\"] = len(vocab_dict)\n",
    "vocab_dict[\"[PAD]\"] = len(vocab_dict)\n",
    "len(vocab_dict)"
   ]
  },
  {
   "cell_type": "code",
   "execution_count": null,
   "id": "5ndK4KLUDZdT",
   "metadata": {
    "id": "5ndK4KLUDZdT"
   },
   "outputs": [],
   "source": [
    "# Save vocab dict as json file\n",
    "import json\n",
    "with open('/content/drive/MyDrive/Colab Notebooks/wav2vec2-finetune/vocab.json', 'w') as vocab_file:\n",
    "    json.dump(vocab_dict, vocab_file)"
   ]
  },
  {
   "cell_type": "code",
   "execution_count": null,
   "id": "oU4k8MnjD6zD",
   "metadata": {
    "id": "oU4k8MnjD6zD"
   },
   "outputs": [],
   "source": [
    "# Use json file to instantiate Wav2Vec2CTCTokenizer\n",
    "from transformers import Wav2Vec2CTCTokenizer\n",
    "\n",
    "tokenizer = Wav2Vec2CTCTokenizer(\"/content/drive/MyDrive/Colab Notebooks/wav2vec2-finetune/vocab.json\", unk_token=\"[UNK]\", pad_token=\"[PAD]\", word_delimiter_token=\"|\")\n",
    "\n",
    "# # Save tokenizer (manually add to model directory)\n",
    "# tokenizer.save_pretrained(\"/content/drive/MyDrive/Colab Notebooks/wav2vec2-finetune\")"
   ]
  },
  {
   "cell_type": "code",
   "execution_count": null,
   "id": "B4uNF9y6ERoa",
   "metadata": {
    "id": "B4uNF9y6ERoa"
   },
   "outputs": [],
   "source": [
    "# Create Wav2Vec2 Feature Extractor\n",
    "from transformers import Wav2Vec2FeatureExtractor\n",
    "\n",
    "feature_extractor = Wav2Vec2FeatureExtractor(feature_size=1, sampling_rate=16000, padding_value=0.0, do_normalize=True, return_attention_mask=False)"
   ]
  },
  {
   "cell_type": "code",
   "execution_count": null,
   "id": "7KrR2-nQbgxJ",
   "metadata": {
    "colab": {
     "base_uri": "https://localhost:8080/",
     "height": 252,
     "referenced_widgets": [
      "f72c511369d6438a96057a7b61d9384a",
      "1399db8e257c41529f37089ee2ca7938",
      "bceae74d3de44f2dab1a2ebfeadf1883",
      "79bae328a1534399b4aa813509e55317",
      "bb3b1fbfebfc45348725f0a02e2b5b65",
      "4eee0396d0de4b969147e011ee11e7f2",
      "ff6ab62458104769809c0f0637a1ef24",
      "49e66cdca4cf400e89528b2d0d6c09d8",
      "3c79436b690a454c9b84696104418e41",
      "3786744d4bee405ba18b1c2a45d0371b",
      "4ee97fd0f04a412ebb23fd1dd35a616d",
      "ba889ce45a1d41459e319aef2fb69c18",
      "094d4a6e14d14e69836711abdccf6809",
      "24de678708b04647a5b02411ab4638d9",
      "3c190472216141f7b007299e830eac4c",
      "1547645196d6477da1bc1ffb4b91160b",
      "5ceee1d17ba14df88aa3587673c75290",
      "407fcfc350d449818ad16ee9e7487b0c",
      "e9f5a04882e042ceb841b4a8ae9df998",
      "3491cc568d7c4d6ca502d6620642fe2d",
      "693dab7cca3f4960b2520bc3fead44e2",
      "fb860bfce3ab42a8b14b98a57d87441d",
      "fd3f8fc53fac48889f160ae1bab289a4",
      "eaafd20868fa4d8886f0fc4c724c3dfd",
      "8eef9074eca54c77ba752e1688dcddaa",
      "6c359db71ea54960834cf45f9c852ddd",
      "cb1b3718cac84e62ba94eb8ade8a5b93",
      "43e9b7d0c1b24a4fbd0f71ff5d2a872c",
      "4baf40bfdd7c4d4dad5eca8f7da3b03e",
      "c36bc65675b8446b9ab987a39f40bfff",
      "54fd380f390349b0a6e4ee980b4c3e69",
      "593d0d7b178d40bebb201170df64c942",
      "7b2f84883f06467d8c5528635c47fd37"
     ]
    },
    "executionInfo": {
     "elapsed": 13085,
     "status": "ok",
     "timestamp": 1740567003538,
     "user": {
      "displayName": "Jin Kett Yee",
      "userId": "13564150855909515795"
     },
     "user_tz": 480
    },
    "id": "7KrR2-nQbgxJ",
    "outputId": "a10ae637-a3c3-4bc3-861f-33f5e5b68602"
   },
   "outputs": [
    {
     "name": "stderr",
     "output_type": "stream",
     "text": [
      "/usr/local/lib/python3.11/dist-packages/huggingface_hub/utils/_auth.py:94: UserWarning: \n",
      "The secret `HF_TOKEN` does not exist in your Colab secrets.\n",
      "To authenticate with the Hugging Face Hub, create a token in your settings tab (https://huggingface.co/settings/tokens), set it as secret in your Google Colab and restart your session.\n",
      "You will be able to reuse this secret in all of your notebooks.\n",
      "Please note that authentication is recommended but still optional to access public models or datasets.\n",
      "  warnings.warn(\n"
     ]
    },
    {
     "data": {
      "application/vnd.jupyter.widget-view+json": {
       "model_id": "f72c511369d6438a96057a7b61d9384a",
       "version_major": 2,
       "version_minor": 0
      },
      "text/plain": [
       "config.json:   0%|          | 0.00/843 [00:00<?, ?B/s]"
      ]
     },
     "metadata": {},
     "output_type": "display_data"
    },
    {
     "data": {
      "application/vnd.jupyter.widget-view+json": {
       "model_id": "ba889ce45a1d41459e319aef2fb69c18",
       "version_major": 2,
       "version_minor": 0
      },
      "text/plain": [
       "pytorch_model.bin:   0%|          | 0.00/1.26G [00:00<?, ?B/s]"
      ]
     },
     "metadata": {},
     "output_type": "display_data"
    },
    {
     "name": "stderr",
     "output_type": "stream",
     "text": [
      "Some weights of Wav2Vec2ForCTC were not initialized from the model checkpoint at facebook/wav2vec2-large-960h and are newly initialized: ['wav2vec2.masked_spec_embed']\n",
      "You should probably TRAIN this model on a down-stream task to be able to use it for predictions and inference.\n"
     ]
    },
    {
     "data": {
      "application/vnd.jupyter.widget-view+json": {
       "model_id": "fd3f8fc53fac48889f160ae1bab289a4",
       "version_major": 2,
       "version_minor": 0
      },
      "text/plain": [
       "model.safetensors:   0%|          | 0.00/1.26G [00:00<?, ?B/s]"
      ]
     },
     "metadata": {},
     "output_type": "display_data"
    }
   ],
   "source": [
    "# ======================\n",
    "# 3. LOAD PROCESSOR & MODEL\n",
    "# ======================\n",
    "from transformers import Wav2Vec2Processor\n",
    "processor = Wav2Vec2Processor(feature_extractor=feature_extractor, tokenizer=tokenizer)\n",
    "\n",
    "model = Wav2Vec2ForCTC.from_pretrained(\n",
    "    \"facebook/wav2vec2-large-960h\",\n",
    "    ctc_loss_reduction=\"mean\",\n",
    "    pad_token_id=processor.tokenizer.pad_token_id\n",
    ")"
   ]
  },
  {
   "cell_type": "code",
   "execution_count": null,
   "id": "rYZTJPnqbr_4",
   "metadata": {
    "colab": {
     "base_uri": "https://localhost:8080/",
     "height": 552,
     "referenced_widgets": [
      "13b4a1175b434cd792bf8dbbc540b9d2",
      "017e01733c714e16b0cbcdd0f37e0f01",
      "0dc3dc93e83148b5ad22f7f120bc7608",
      "12e1e02e47554549b3a7236ed14bd175",
      "86e35272143a4332be1e09fa939441b2",
      "778375bdf2524a8f83c1ee0603639286",
      "040987a09694426b9900ae59020c28e5",
      "b797d3b78c1240fba8f630a2b9f76ff4",
      "da8fb8498f174c01a30cf9719576d24a",
      "e64191fda60a41cba376586690fa0fa8",
      "a399d8d15a5e4edc8d5e2336ae2ce419",
      "dba1296556264d8d845118ca50198a9a",
      "d17cfc8b84834cb99bdfa77672dc2042",
      "5a84265839fb44b8ac33fa5dea5444b5",
      "e1922725377f4889b8ad935a6a5918ca",
      "e88bb106953e44a68dfa60135a26f0bd",
      "f957cfcf907c44bd9595aa4cb7d22d50",
      "73610edcdd7c42119777ee86a2313f2d",
      "aca889ae704f49b197ad5531881454a8",
      "9568d8b7cf234dfca160d3554f070b18",
      "5cc3528735b94201a2dffb541058b138",
      "29e7583073684de18a2d91371eecca9e"
     ]
    },
    "executionInfo": {
     "elapsed": 1357850,
     "status": "ok",
     "timestamp": 1740568361405,
     "user": {
      "displayName": "Jin Kett Yee",
      "userId": "13564150855909515795"
     },
     "user_tz": 480
    },
    "id": "rYZTJPnqbr_4",
    "outputId": "abd91d2e-271d-41a1-cecf-544d97dc1f9e"
   },
   "outputs": [
    {
     "data": {
      "application/vnd.jupyter.widget-view+json": {
       "model_id": "13b4a1175b434cd792bf8dbbc540b9d2",
       "version_major": 2,
       "version_minor": 0
      },
      "text/plain": [
       "Map (num_proc=4):   0%|          | 0/5040 [00:00<?, ? examples/s]"
      ]
     },
     "metadata": {},
     "output_type": "display_data"
    },
    {
     "name": "stderr",
     "output_type": "stream",
     "text": [
      "/usr/local/lib/python3.11/dist-packages/transformers/models/wav2vec2/processing_wav2vec2.py:174: UserWarning: `as_target_processor` is deprecated and will be removed in v5 of Transformers. You can process your labels by using the argument `text` of the regular `__call__` method (either in the same call as your audio inputs, or in a separate call.\n",
      "  warnings.warn(\n",
      "/usr/local/lib/python3.11/dist-packages/transformers/models/wav2vec2/processing_wav2vec2.py:174: UserWarning: `as_target_processor` is deprecated and will be removed in v5 of Transformers. You can process your labels by using the argument `text` of the regular `__call__` method (either in the same call as your audio inputs, or in a separate call.\n",
      "  warnings.warn(\n",
      "/usr/local/lib/python3.11/dist-packages/transformers/models/wav2vec2/processing_wav2vec2.py:174: UserWarning: `as_target_processor` is deprecated and will be removed in v5 of Transformers. You can process your labels by using the argument `text` of the regular `__call__` method (either in the same call as your audio inputs, or in a separate call.\n",
      "  warnings.warn(\n",
      "/usr/local/lib/python3.11/dist-packages/transformers/models/wav2vec2/processing_wav2vec2.py:174: UserWarning: `as_target_processor` is deprecated and will be removed in v5 of Transformers. You can process your labels by using the argument `text` of the regular `__call__` method (either in the same call as your audio inputs, or in a separate call.\n",
      "  warnings.warn(\n"
     ]
    },
    {
     "data": {
      "application/vnd.jupyter.widget-view+json": {
       "model_id": "dba1296556264d8d845118ca50198a9a",
       "version_major": 2,
       "version_minor": 0
      },
      "text/plain": [
       "Map (num_proc=4):   0%|          | 0/1260 [00:00<?, ? examples/s]"
      ]
     },
     "metadata": {},
     "output_type": "display_data"
    },
    {
     "name": "stderr",
     "output_type": "stream",
     "text": [
      "/usr/local/lib/python3.11/dist-packages/transformers/models/wav2vec2/processing_wav2vec2.py:174: UserWarning: `as_target_processor` is deprecated and will be removed in v5 of Transformers. You can process your labels by using the argument `text` of the regular `__call__` method (either in the same call as your audio inputs, or in a separate call.\n",
      "  warnings.warn(\n",
      "/usr/local/lib/python3.11/dist-packages/transformers/models/wav2vec2/processing_wav2vec2.py:174: UserWarning: `as_target_processor` is deprecated and will be removed in v5 of Transformers. You can process your labels by using the argument `text` of the regular `__call__` method (either in the same call as your audio inputs, or in a separate call.\n",
      "  warnings.warn(\n",
      "/usr/local/lib/python3.11/dist-packages/transformers/models/wav2vec2/processing_wav2vec2.py:174: UserWarning: `as_target_processor` is deprecated and will be removed in v5 of Transformers. You can process your labels by using the argument `text` of the regular `__call__` method (either in the same call as your audio inputs, or in a separate call.\n",
      "  warnings.warn(\n",
      "/usr/local/lib/python3.11/dist-packages/transformers/models/wav2vec2/processing_wav2vec2.py:174: UserWarning: `as_target_processor` is deprecated and will be removed in v5 of Transformers. You can process your labels by using the argument `text` of the regular `__call__` method (either in the same call as your audio inputs, or in a separate call.\n",
      "  warnings.warn(\n"
     ]
    },
    {
     "name": "stdout",
     "output_type": "stream",
     "text": [
      "DatasetDict({\n",
      "    train: Dataset({\n",
      "        features: ['text', 'input_values', 'labels'],\n",
      "        num_rows: 5040\n",
      "    })\n",
      "    validation: Dataset({\n",
      "        features: ['text', 'input_values', 'labels'],\n",
      "        num_rows: 1260\n",
      "    })\n",
      "})\n"
     ]
    }
   ],
   "source": [
    "# ======================\n",
    "# 4. PREPROCESSING FUNCTION\n",
    "# ======================\n",
    "def preprocess_function(batch):\n",
    "    waveform, sr = torchaudio.load(batch[\"path\"])\n",
    "\n",
    "    # Convert stereo to mono\n",
    "    if waveform.shape[0] > 1:\n",
    "        waveform = torch.mean(waveform, dim=0, keepdim=True)\n",
    "\n",
    "    # Resample to 16kHz (if needed)\n",
    "    if sr != 16000:\n",
    "        resampler = torchaudio.transforms.Resample(sr, 16000)\n",
    "        waveform = resampler(waveform)\n",
    "\n",
    "    # Flatten waveform\n",
    "    waveform = waveform.squeeze()\n",
    "\n",
    "    # Convert audio to Wav2Vec2 format\n",
    "    audio_outputs = processor(\n",
    "        waveform.numpy(),\n",
    "        sampling_rate=16000,\n",
    "        return_tensors=\"pt\"\n",
    "    )\n",
    "\n",
    "    # Convert text to tokenized labels\n",
    "    with processor.as_target_processor():\n",
    "        labels = processor(batch[\"text\"]).input_ids\n",
    "\n",
    "    return {\n",
    "        \"input_values\": audio_outputs.input_values[0],\n",
    "        \"labels\": labels\n",
    "    }\n",
    "\n",
    "dataset = raw_dataset.map(\n",
    "    preprocess_function,\n",
    "    remove_columns=[\"path\"],\n",
    "    num_proc=4\n",
    ")\n",
    "\n",
    "print(dataset)"
   ]
  },
  {
   "cell_type": "code",
   "execution_count": null,
   "id": "GUqyZKkrT7mz",
   "metadata": {
    "colab": {
     "base_uri": "https://localhost:8080/"
    },
    "executionInfo": {
     "elapsed": 149,
     "status": "ok",
     "timestamp": 1740568361672,
     "user": {
      "displayName": "Jin Kett Yee",
      "userId": "13564150855909515795"
     },
     "user_tz": 480
    },
    "id": "GUqyZKkrT7mz",
    "outputId": "6b9a4a50-77b4-4644-aaaf-47213b22efcc"
   },
   "outputs": [
    {
     "name": "stdout",
     "output_type": "stream",
     "text": [
      "Original Text Label: will you try to get some sleep \n",
      "Tokenized Label (input_ids): [1, 17, 10, 10, 20, 15, 7, 5, 20, 24, 6, 15, 20, 24, 7, 20, 19, 0, 24, 20, 14, 7, 21, 0, 20, 14, 10, 0, 0, 27, 20]\n",
      "Decoded Text: will you try to get some sleep\n"
     ]
    }
   ],
   "source": [
    "# ======================\n",
    "# 4.1. TEST DECODE FUNCTION\n",
    "# ======================\n",
    "# Get an example from the processed dataset\n",
    "example = dataset[\"train\"]  # Fetch first example\n",
    "\n",
    "# Extract tokenized label (input_ids)\n",
    "tokenized_label = example[\"labels\"][8]\n",
    "\n",
    "# Decode tokenized label back to text\n",
    "decoded_text = processor.decode(tokenized_label, group_tokens=False)\n",
    "\n",
    "# Print results\n",
    "print(\"Original Text Label:\", raw_dataset[\"train\"][\"text\"][8])  # Assuming raw_dataset still contains original text\n",
    "print(\"Tokenized Label (input_ids):\", tokenized_label)\n",
    "print(\"Decoded Text:\", decoded_text)"
   ]
  },
  {
   "cell_type": "code",
   "execution_count": null,
   "id": "HQfMZSmtiCxx",
   "metadata": {
    "colab": {
     "base_uri": "https://localhost:8080/",
     "height": 98,
     "referenced_widgets": [
      "e23891757e464319808426331ef4d5f4",
      "3940aaf8b74546fbab862353cdc136b3",
      "97dc3efb6d604a518d6ab33df019ba04",
      "0b0ccc88c36f4a5b8f0335f0a3365ba5",
      "15ecaf91761e41dba27c16e0c3e1cad0",
      "a8a1d0e748f84ec08903ec9aaf375339",
      "9c3fc7e8676846149b947b22615b1ad7",
      "f437b198d34a4a06ac5bff50c5c71f5e",
      "1f443a7dbc4b4ba48bcb5d2f06de0c18",
      "3180e0c0b1954946aa2ed6584289c4c1",
      "2286d5c6158343a7b57420ec3417cf95",
      "c99550221c3641b082e07334f9d78c39",
      "086f21afc0614a78b499ddb57f029fc1",
      "137d35d46ee44978bc61cec432566b2e",
      "bdea2e14054b43c6ac022391d44a1e35",
      "29cf39cd0e0e45cab1105cc5ae38b88b",
      "efcb7433c35a463d92034361e2eb34b8",
      "884a0697e7ca4406a0a82e7c071a8e79",
      "5aab8d1c9e1d498cac1584a0c82a32c7",
      "d86d4ce571a54796b0471ec6d243fa46",
      "d2831398220b47d1ae4920df9e60e06b",
      "838213d1b07644159a4b9b3eed8936f5"
     ]
    },
    "executionInfo": {
     "elapsed": 10584,
     "status": "ok",
     "timestamp": 1740568372258,
     "user": {
      "displayName": "Jin Kett Yee",
      "userId": "13564150855909515795"
     },
     "user_tz": 480
    },
    "id": "HQfMZSmtiCxx",
    "outputId": "491c6479-889e-469c-eb24-5d3bdca924b3"
   },
   "outputs": [
    {
     "data": {
      "application/vnd.jupyter.widget-view+json": {
       "model_id": "e23891757e464319808426331ef4d5f4",
       "version_major": 2,
       "version_minor": 0
      },
      "text/plain": [
       "Saving the dataset (0/3 shards):   0%|          | 0/5040 [00:00<?, ? examples/s]"
      ]
     },
     "metadata": {},
     "output_type": "display_data"
    },
    {
     "data": {
      "application/vnd.jupyter.widget-view+json": {
       "model_id": "c99550221c3641b082e07334f9d78c39",
       "version_major": 2,
       "version_minor": 0
      },
      "text/plain": [
       "Saving the dataset (0/1 shards):   0%|          | 0/1260 [00:00<?, ? examples/s]"
      ]
     },
     "metadata": {},
     "output_type": "display_data"
    },
    {
     "name": "stdout",
     "output_type": "stream",
     "text": [
      "Dataset saved to /content/drive/MyDrive/Colab Notebooks/wav2vec2-finetune/processed_dataset6300\n"
     ]
    }
   ],
   "source": [
    "# Save and store dataset - Easy access\n",
    "# Save the dataset to disk in Hugging Face's Arrow format\n",
    "save_path = \"/content/drive/MyDrive/Colab Notebooks/wav2vec2-finetune/processed_dataset6300\"\n",
    "dataset.save_to_disk(save_path)\n",
    "\n",
    "print(f\"Dataset saved to {save_path}\")"
   ]
  },
  {
   "cell_type": "code",
   "execution_count": null,
   "id": "pTTmikEzo8Dm",
   "metadata": {
    "colab": {
     "base_uri": "https://localhost:8080/"
    },
    "executionInfo": {
     "elapsed": 439,
     "status": "ok",
     "timestamp": 1740561886499,
     "user": {
      "displayName": "Jin Kett Yee",
      "userId": "13564150855909515795"
     },
     "user_tz": 480
    },
    "id": "pTTmikEzo8Dm",
    "outputId": "f4f29953-04d0-49c1-e254-ab66efb94c83"
   },
   "outputs": [
    {
     "name": "stdout",
     "output_type": "stream",
     "text": [
      "Preprocessed dataset loaded successfully!\n",
      "DatasetDict({\n",
      "    train: Dataset({\n",
      "        features: ['text', 'input_values', 'labels'],\n",
      "        num_rows: 4410\n",
      "    })\n",
      "    validation: Dataset({\n",
      "        features: ['text', 'input_values', 'labels'],\n",
      "        num_rows: 1890\n",
      "    })\n",
      "})\n"
     ]
    }
   ],
   "source": [
    "# Load dataset\n",
    "from datasets import load_from_disk\n",
    "\n",
    "# Load the preprocessed dataset\n",
    "save_path = \"/content/drive/MyDrive/Colab Notebooks/wav2vec2-finetune/processed_dataset6300\"\n",
    "dataset = load_from_disk(save_path)\n",
    "\n",
    "print(\"Preprocessed dataset loaded successfully!\")\n",
    "print(dataset)"
   ]
  },
  {
   "cell_type": "code",
   "execution_count": null,
   "id": "C-zpGy5xtIa6",
   "metadata": {
    "id": "C-zpGy5xtIa6"
   },
   "outputs": [],
   "source": [
    "# ======================\n",
    "# 5. DATA COLLATOR INPUT PROCESSING\n",
    "# ======================\n",
    "\n",
    "from dataclasses import dataclass\n",
    "from typing import Dict, List, Union\n",
    "import torch\n",
    "from transformers import Wav2Vec2Processor\n",
    "\n",
    "@dataclass\n",
    "class DataCollatorCTCWithPadding:\n",
    "    processor: Wav2Vec2Processor\n",
    "    padding: Union[bool, str] = True\n",
    "\n",
    "    def __call__(self, features: List[Dict[str, Union[List[int], torch.Tensor]]]) -> Dict[str, torch.Tensor]:\n",
    "        # Separate input values and labels\n",
    "        input_features = [{\"input_values\": feature[\"input_values\"]} for feature in features]\n",
    "        label_features = [{\"input_ids\": feature[\"labels\"]} for feature in features]\n",
    "\n",
    "        # Pad inputs\n",
    "        batch = self.processor.pad(\n",
    "            input_features,\n",
    "            padding=self.padding,\n",
    "            return_tensors=\"pt\"\n",
    "        )\n",
    "\n",
    "        # Pad labels\n",
    "        with self.processor.as_target_processor():\n",
    "            labels_batch = self.processor.pad(\n",
    "                label_features,\n",
    "                padding=self.padding,\n",
    "                return_tensors=\"pt\"\n",
    "            )\n",
    "\n",
    "        # Replace padding with -100 to ignore in loss computation\n",
    "        labels = labels_batch[\"input_ids\"].masked_fill(labels_batch.attention_mask.ne(1), -100)\n",
    "\n",
    "        # Add labels to batch\n",
    "        batch[\"labels\"] = labels\n",
    "\n",
    "        return batch\n",
    "\n",
    "# Initialize data collator\n",
    "data_collator = DataCollatorCTCWithPadding(processor=processor, padding=True)"
   ]
  },
  {
   "cell_type": "code",
   "execution_count": null,
   "id": "VdG2ppSIO1tp",
   "metadata": {
    "colab": {
     "base_uri": "https://localhost:8080/",
     "height": 49,
     "referenced_widgets": [
      "aa3dcc10e6b14fe7bd454450a8dd35d8",
      "e19b0095ab044216962ffd38f9529bce",
      "e953dd216ca74410ba6982d15a0bb538",
      "34c15f9e931243eb88d6317f911cb371",
      "ad1943eef9af476f80fa50e283e0e58e",
      "c84bede16cdb4995bc3d1a650a1022a7",
      "a56efafac6464a5ab74fcc3d64431b79",
      "fef51bdfc19e4bb3b08228370dbd6d5d",
      "c666b937f0344c859262c972c8e85c19",
      "429d842089e2452ca580ff56331c0d31",
      "efb42a1088ae482ca464bb40b313df01"
     ]
    },
    "collapsed": true,
    "executionInfo": {
     "elapsed": 2349,
     "status": "ok",
     "timestamp": 1740568374621,
     "user": {
      "displayName": "Jin Kett Yee",
      "userId": "13564150855909515795"
     },
     "user_tz": 480
    },
    "id": "VdG2ppSIO1tp",
    "jupyter": {
     "outputs_hidden": true
    },
    "outputId": "ccb498c0-e292-4720-a214-ecfdaf36c8bd"
   },
   "outputs": [
    {
     "data": {
      "application/vnd.jupyter.widget-view+json": {
       "model_id": "aa3dcc10e6b14fe7bd454450a8dd35d8",
       "version_major": 2,
       "version_minor": 0
      },
      "text/plain": [
       "Downloading builder script:   0%|          | 0.00/4.49k [00:00<?, ?B/s]"
      ]
     },
     "metadata": {},
     "output_type": "display_data"
    }
   ],
   "source": [
    "# ======================\n",
    "# 5. METRICS\n",
    "# ======================\n",
    "# Load Word Error Rate metric\n",
    "wer_metric = evaluate.load(\"wer\")\n",
    "\n",
    "def compute_metrics(pred):\n",
    "    \"\"\"Computes Word Error Rate (WER) for model evaluation.\"\"\"\n",
    "    pred_logits = pred.predictions\n",
    "    pred_ids = np.argmax(pred_logits, axis=-1)\n",
    "\n",
    "    # Convert -100 (ignored tokens) back to padding token ID (typically 0)\n",
    "    pred.label_ids[pred.label_ids == -100] = processor.tokenizer.pad_token_id\n",
    "\n",
    "    # Decode predictions and labels\n",
    "    pred_str = processor.batch_decode(pred_ids)\n",
    "    # Do not group tokens for labels (else, \"hello\" will be interpreted as \"helo\")\n",
    "    label_str = processor.batch_decode(pred.label_ids, group_tokens=False)\n",
    "\n",
    "    wer = wer_metric.compute(predictions=pred_str, references=label_str)\n",
    "\n",
    "    return {\"wer\": wer}"
   ]
  },
  {
   "cell_type": "markdown",
   "id": "-aaXF1-ZE0pQ",
   "metadata": {
    "id": "-aaXF1-ZE0pQ"
   },
   "source": [
    "### Model Training steps\n",
    "- Freeze feature extraction layer by CNN: CNN layers are sufficiently trained during pretraining and as stated in the paper, it does not need to be fine-tuned anymore.\n",
    "- **Adjust training parameters (Hyperparameters):**\n",
    "  - Group by length: Group training samples of similar input length into one batch. This can significantly speed up training time by reducing the overall number of useless padding tokens that are passed through the model, enhancing efficiency of training\n",
    "  - Aim to perform hyperparameter tuning for other parameters like batch size, learning rate, weight decay etc.\n",
    "  - Report word error rates (WER) every 400 steps\n",
    "  - Hyperparameters were selected based on open-sourced configurations for \"Wav2Vec2\" model trained on English ASR dataset (Reference:https://huggingface.co/blog/fine-tune-wav2vec2-english)\n",
    "\n",
    "**Other references:**\n",
    "- https://huggingface.co/ClarenceTKX/wav2vec2-large-960h-cv\n",
    "- https://huggingface.co/learn/audio-course/en/chapter5/fine-tuning\n",
    "- https://speechbrain.readthedocs.io/en/latest/tutorials/nn/using-wav2vec-2.0-hubert-wavlm-and-whisper-from-huggingface-with-speechbrain.html\n",
    "\n"
   ]
  },
  {
   "cell_type": "code",
   "execution_count": null,
   "id": "xtGbzJvuDKv4",
   "metadata": {
    "colab": {
     "base_uri": "https://localhost:8080/",
     "height": 1000
    },
    "executionInfo": {
     "elapsed": 11232034,
     "status": "ok",
     "timestamp": 1740579606654,
     "user": {
      "displayName": "Jin Kett Yee",
      "userId": "13564150855909515795"
     },
     "user_tz": 480
    },
    "id": "xtGbzJvuDKv4",
    "outputId": "b34713cf-0cf4-412f-d184-f4e29e922471"
   },
   "outputs": [
    {
     "name": "stderr",
     "output_type": "stream",
     "text": [
      "/usr/local/lib/python3.11/dist-packages/transformers/models/wav2vec2/modeling_wav2vec2.py:2176: FutureWarning: The method `freeze_feature_extractor` is deprecated and will be removed in Transformers v5. Please use the equivalent `freeze_feature_encoder` method instead.\n",
      "  warnings.warn(\n",
      "/usr/local/lib/python3.11/dist-packages/transformers/training_args.py:1575: FutureWarning: `evaluation_strategy` is deprecated and will be removed in version 4.46 of 🤗 Transformers. Use `eval_strategy` instead\n",
      "  warnings.warn(\n",
      "/usr/local/lib/python3.11/dist-packages/transformers/models/wav2vec2/processing_wav2vec2.py:174: UserWarning: `as_target_processor` is deprecated and will be removed in v5 of Transformers. You can process your labels by using the argument `text` of the regular `__call__` method (either in the same call as your audio inputs, or in a separate call.\n",
      "  warnings.warn(\n"
     ]
    },
    {
     "data": {
      "text/html": [
       "\n",
       "    <div>\n",
       "      \n",
       "      <progress value='6300' max='6300' style='width:300px; height:20px; vertical-align: middle;'></progress>\n",
       "      [6300/6300 3:04:21, Epoch 20/20]\n",
       "    </div>\n",
       "    <table border=\"1\" class=\"dataframe\">\n",
       "  <thead>\n",
       " <tr style=\"text-align: left;\">\n",
       "      <th>Step</th>\n",
       "      <th>Training Loss</th>\n",
       "      <th>Validation Loss</th>\n",
       "      <th>Wer</th>\n",
       "    </tr>\n",
       "  </thead>\n",
       "  <tbody>\n",
       "    <tr>\n",
       "      <td>400</td>\n",
       "      <td>5.474000</td>\n",
       "      <td>2.945432</td>\n",
       "      <td>1.000000</td>\n",
       "    </tr>\n",
       "    <tr>\n",
       "      <td>800</td>\n",
       "      <td>1.145300</td>\n",
       "      <td>0.419324</td>\n",
       "      <td>0.225750</td>\n",
       "    </tr>\n",
       "    <tr>\n",
       "      <td>1200</td>\n",
       "      <td>0.518900</td>\n",
       "      <td>0.345408</td>\n",
       "      <td>0.242208</td>\n",
       "    </tr>\n",
       "    <tr>\n",
       "      <td>1600</td>\n",
       "      <td>0.408300</td>\n",
       "      <td>0.413221</td>\n",
       "      <td>0.226831</td>\n",
       "    </tr>\n",
       "    <tr>\n",
       "      <td>2000</td>\n",
       "      <td>0.338800</td>\n",
       "      <td>0.400079</td>\n",
       "      <td>0.220846</td>\n",
       "    </tr>\n",
       "    <tr>\n",
       "      <td>2400</td>\n",
       "      <td>0.273500</td>\n",
       "      <td>0.420334</td>\n",
       "      <td>0.216856</td>\n",
       "    </tr>\n",
       "    <tr>\n",
       "      <td>2800</td>\n",
       "      <td>0.251900</td>\n",
       "      <td>0.414308</td>\n",
       "      <td>0.208794</td>\n",
       "    </tr>\n",
       "    <tr>\n",
       "      <td>3200</td>\n",
       "      <td>0.210100</td>\n",
       "      <td>0.442155</td>\n",
       "      <td>0.207630</td>\n",
       "    </tr>\n",
       "    <tr>\n",
       "      <td>3600</td>\n",
       "      <td>0.180500</td>\n",
       "      <td>0.462939</td>\n",
       "      <td>0.200648</td>\n",
       "    </tr>\n",
       "    <tr>\n",
       "      <td>4000</td>\n",
       "      <td>0.158900</td>\n",
       "      <td>0.392359</td>\n",
       "      <td>0.192253</td>\n",
       "    </tr>\n",
       "    <tr>\n",
       "      <td>4400</td>\n",
       "      <td>0.144100</td>\n",
       "      <td>0.386494</td>\n",
       "      <td>0.191256</td>\n",
       "    </tr>\n",
       "    <tr>\n",
       "      <td>4800</td>\n",
       "      <td>0.123800</td>\n",
       "      <td>0.337622</td>\n",
       "      <td>0.186186</td>\n",
       "    </tr>\n",
       "    <tr>\n",
       "      <td>5200</td>\n",
       "      <td>0.109600</td>\n",
       "      <td>0.370104</td>\n",
       "      <td>0.183193</td>\n",
       "    </tr>\n",
       "    <tr>\n",
       "      <td>5600</td>\n",
       "      <td>0.096900</td>\n",
       "      <td>0.357633</td>\n",
       "      <td>0.180284</td>\n",
       "    </tr>\n",
       "    <tr>\n",
       "      <td>6000</td>\n",
       "      <td>0.086400</td>\n",
       "      <td>0.352737</td>\n",
       "      <td>0.177791</td>\n",
       "    </tr>\n",
       "  </tbody>\n",
       "</table><p>"
      ],
      "text/plain": [
       "<IPython.core.display.HTML object>"
      ]
     },
     "metadata": {},
     "output_type": "display_data"
    },
    {
     "name": "stderr",
     "output_type": "stream",
     "text": [
      "Trainer.tokenizer is now deprecated. You should use Trainer.processing_class instead.\n",
      "Trainer.tokenizer is now deprecated. You should use Trainer.processing_class instead.\n",
      "/usr/local/lib/python3.11/dist-packages/transformers/models/wav2vec2/processing_wav2vec2.py:174: UserWarning: `as_target_processor` is deprecated and will be removed in v5 of Transformers. You can process your labels by using the argument `text` of the regular `__call__` method (either in the same call as your audio inputs, or in a separate call.\n",
      "  warnings.warn(\n",
      "Trainer.tokenizer is now deprecated. You should use Trainer.processing_class instead.\n",
      "Trainer.tokenizer is now deprecated. You should use Trainer.processing_class instead.\n",
      "/usr/local/lib/python3.11/dist-packages/transformers/models/wav2vec2/processing_wav2vec2.py:174: UserWarning: `as_target_processor` is deprecated and will be removed in v5 of Transformers. You can process your labels by using the argument `text` of the regular `__call__` method (either in the same call as your audio inputs, or in a separate call.\n",
      "  warnings.warn(\n",
      "Trainer.tokenizer is now deprecated. You should use Trainer.processing_class instead.\n",
      "Trainer.tokenizer is now deprecated. You should use Trainer.processing_class instead.\n",
      "/usr/local/lib/python3.11/dist-packages/transformers/models/wav2vec2/processing_wav2vec2.py:174: UserWarning: `as_target_processor` is deprecated and will be removed in v5 of Transformers. You can process your labels by using the argument `text` of the regular `__call__` method (either in the same call as your audio inputs, or in a separate call.\n",
      "  warnings.warn(\n",
      "Trainer.tokenizer is now deprecated. You should use Trainer.processing_class instead.\n",
      "Trainer.tokenizer is now deprecated. You should use Trainer.processing_class instead.\n",
      "/usr/local/lib/python3.11/dist-packages/transformers/models/wav2vec2/processing_wav2vec2.py:174: UserWarning: `as_target_processor` is deprecated and will be removed in v5 of Transformers. You can process your labels by using the argument `text` of the regular `__call__` method (either in the same call as your audio inputs, or in a separate call.\n",
      "  warnings.warn(\n",
      "Trainer.tokenizer is now deprecated. You should use Trainer.processing_class instead.\n",
      "Trainer.tokenizer is now deprecated. You should use Trainer.processing_class instead.\n",
      "/usr/local/lib/python3.11/dist-packages/transformers/models/wav2vec2/processing_wav2vec2.py:174: UserWarning: `as_target_processor` is deprecated and will be removed in v5 of Transformers. You can process your labels by using the argument `text` of the regular `__call__` method (either in the same call as your audio inputs, or in a separate call.\n",
      "  warnings.warn(\n",
      "Trainer.tokenizer is now deprecated. You should use Trainer.processing_class instead.\n",
      "Trainer.tokenizer is now deprecated. You should use Trainer.processing_class instead.\n",
      "/usr/local/lib/python3.11/dist-packages/transformers/models/wav2vec2/processing_wav2vec2.py:174: UserWarning: `as_target_processor` is deprecated and will be removed in v5 of Transformers. You can process your labels by using the argument `text` of the regular `__call__` method (either in the same call as your audio inputs, or in a separate call.\n",
      "  warnings.warn(\n",
      "Trainer.tokenizer is now deprecated. You should use Trainer.processing_class instead.\n",
      "Trainer.tokenizer is now deprecated. You should use Trainer.processing_class instead.\n",
      "/usr/local/lib/python3.11/dist-packages/transformers/models/wav2vec2/processing_wav2vec2.py:174: UserWarning: `as_target_processor` is deprecated and will be removed in v5 of Transformers. You can process your labels by using the argument `text` of the regular `__call__` method (either in the same call as your audio inputs, or in a separate call.\n",
      "  warnings.warn(\n",
      "Trainer.tokenizer is now deprecated. You should use Trainer.processing_class instead.\n",
      "Trainer.tokenizer is now deprecated. You should use Trainer.processing_class instead.\n",
      "/usr/local/lib/python3.11/dist-packages/transformers/models/wav2vec2/processing_wav2vec2.py:174: UserWarning: `as_target_processor` is deprecated and will be removed in v5 of Transformers. You can process your labels by using the argument `text` of the regular `__call__` method (either in the same call as your audio inputs, or in a separate call.\n",
      "  warnings.warn(\n",
      "Trainer.tokenizer is now deprecated. You should use Trainer.processing_class instead.\n",
      "Trainer.tokenizer is now deprecated. You should use Trainer.processing_class instead.\n",
      "/usr/local/lib/python3.11/dist-packages/transformers/models/wav2vec2/processing_wav2vec2.py:174: UserWarning: `as_target_processor` is deprecated and will be removed in v5 of Transformers. You can process your labels by using the argument `text` of the regular `__call__` method (either in the same call as your audio inputs, or in a separate call.\n",
      "  warnings.warn(\n",
      "Trainer.tokenizer is now deprecated. You should use Trainer.processing_class instead.\n",
      "Trainer.tokenizer is now deprecated. You should use Trainer.processing_class instead.\n",
      "/usr/local/lib/python3.11/dist-packages/transformers/models/wav2vec2/processing_wav2vec2.py:174: UserWarning: `as_target_processor` is deprecated and will be removed in v5 of Transformers. You can process your labels by using the argument `text` of the regular `__call__` method (either in the same call as your audio inputs, or in a separate call.\n",
      "  warnings.warn(\n",
      "Trainer.tokenizer is now deprecated. You should use Trainer.processing_class instead.\n",
      "Trainer.tokenizer is now deprecated. You should use Trainer.processing_class instead.\n",
      "/usr/local/lib/python3.11/dist-packages/transformers/models/wav2vec2/processing_wav2vec2.py:174: UserWarning: `as_target_processor` is deprecated and will be removed in v5 of Transformers. You can process your labels by using the argument `text` of the regular `__call__` method (either in the same call as your audio inputs, or in a separate call.\n",
      "  warnings.warn(\n",
      "Trainer.tokenizer is now deprecated. You should use Trainer.processing_class instead.\n",
      "Trainer.tokenizer is now deprecated. You should use Trainer.processing_class instead.\n",
      "/usr/local/lib/python3.11/dist-packages/transformers/models/wav2vec2/processing_wav2vec2.py:174: UserWarning: `as_target_processor` is deprecated and will be removed in v5 of Transformers. You can process your labels by using the argument `text` of the regular `__call__` method (either in the same call as your audio inputs, or in a separate call.\n",
      "  warnings.warn(\n",
      "Trainer.tokenizer is now deprecated. You should use Trainer.processing_class instead.\n",
      "Trainer.tokenizer is now deprecated. You should use Trainer.processing_class instead.\n",
      "/usr/local/lib/python3.11/dist-packages/transformers/models/wav2vec2/processing_wav2vec2.py:174: UserWarning: `as_target_processor` is deprecated and will be removed in v5 of Transformers. You can process your labels by using the argument `text` of the regular `__call__` method (either in the same call as your audio inputs, or in a separate call.\n",
      "  warnings.warn(\n",
      "Trainer.tokenizer is now deprecated. You should use Trainer.processing_class instead.\n",
      "Trainer.tokenizer is now deprecated. You should use Trainer.processing_class instead.\n",
      "/usr/local/lib/python3.11/dist-packages/transformers/models/wav2vec2/processing_wav2vec2.py:174: UserWarning: `as_target_processor` is deprecated and will be removed in v5 of Transformers. You can process your labels by using the argument `text` of the regular `__call__` method (either in the same call as your audio inputs, or in a separate call.\n",
      "  warnings.warn(\n",
      "Trainer.tokenizer is now deprecated. You should use Trainer.processing_class instead.\n",
      "Trainer.tokenizer is now deprecated. You should use Trainer.processing_class instead.\n",
      "/usr/local/lib/python3.11/dist-packages/transformers/models/wav2vec2/processing_wav2vec2.py:174: UserWarning: `as_target_processor` is deprecated and will be removed in v5 of Transformers. You can process your labels by using the argument `text` of the regular `__call__` method (either in the same call as your audio inputs, or in a separate call.\n",
      "  warnings.warn(\n"
     ]
    },
    {
     "data": {
      "text/plain": [
       "TrainOutput(global_step=6300, training_loss=0.6083194354223826, metrics={'train_runtime': 11069.7993, 'train_samples_per_second': 9.106, 'train_steps_per_second': 0.569, 'total_flos': 1.4144192128344785e+19, 'train_loss': 0.6083194354223826, 'epoch': 20.0})"
      ]
     },
     "execution_count": 20,
     "metadata": {},
     "output_type": "execute_result"
    }
   ],
   "source": [
    "# ======================\n",
    "# 6. TRAINING FUNCTION\n",
    "# ======================\n",
    "# Pre-trained model loaded earlier - Freeze feature extraction by CNN\n",
    "model.freeze_feature_extractor()\n",
    "\n",
    "# Define training args (without hyperparameter tuning)\n",
    "training_args = TrainingArguments(\n",
    "    output_dir=\"/content/drive/MyDrive/Colab Notebooks/wav2vec2-finetune/wav2vec2-large-960h-cv-6300\",  # Directory for model checkpoints\n",
    "    group_by_length=True,  # Efficient batching by audio length\n",
    "    per_device_train_batch_size=16,  # Adjust based on GPU memory\n",
    "    per_device_eval_batch_size=16, # Defaults to 8\n",
    "    evaluation_strategy=\"steps\",  # Evaluate at the end of each epoch\n",
    "    num_train_epochs=20,  # Number of training epochs\n",
    "    fp16=True,  # Mixed precision training for speed (for GPU)\n",
    "    gradient_checkpointing=True,  # Save memory by checkpointing gradients\n",
    "    save_steps=400,  # Save checkpoint every 500 steps ***CHANGE BACK TO 500\n",
    "    eval_steps=400,\n",
    "    logging_steps=400,\n",
    "    learning_rate=1e-4,  # Learning rate\n",
    "    # optim=\"adamw_torch\",  # Defaults to \"adamw_torch\"\n",
    "    lr_scheduler_type=\"linear\",  # Learning rate scheduler\n",
    "    # lr_scheduler_warmup_steps=500,  # Warmup steps for scheduler\n",
    "    warmup_steps=1000,  # Warmup before full learning rate\n",
    "    weight_decay=0.005,  # Weight decay for regularization\n",
    "    save_total_limit=2, # Keep only the last 2 checkpoints\n",
    "    logging_dir=\"/content/drive/MyDrive/Colab Notebooks/wav2vec2-finetune/logs\",  # TensorBoard logging directory\n",
    "    # gradient_accumulation_steps=1,  # Defaults to 1\n",
    "    push_to_hub=False,  # Disable pushing model to Hugging Face Hub\n",
    "    report_to=\"tensorboard\",  # Use TensorBoard for logging\n",
    "    load_best_model_at_end=True,  # Load best checkpoint after training\n",
    "    metric_for_best_model=\"wer\",  # Track Word Error Rate (WER)\n",
    "    greater_is_better=False,  # Lower WER is better\n",
    ")\n",
    "\n",
    "# Pass training and validation instances to Trainer class\n",
    "trainer = Trainer(\n",
    "    model=model,\n",
    "    args=training_args,\n",
    "    train_dataset=dataset[\"train\"],\n",
    "    eval_dataset=dataset[\"validation\"],\n",
    "    data_collator=data_collator,\n",
    "    processing_class=processor, # use processor instead for easy decoding\n",
    "    compute_metrics=compute_metrics,\n",
    ")\n",
    "\n",
    "# Run training process\n",
    "trainer.train()\n",
    "\n",
    "# To resume training from latest checkpoint\n",
    "# latest_checkpoint = \"/content/drive/MyDrive/Colab Notebooks/wav2vec2-finetune/wav2vec2-large-960h-cv/checkpoint-xxxx\"\n",
    "# trainer.train(resume_from_checkpoint=latest_checkpoint)"
   ]
  },
  {
   "cell_type": "markdown",
   "id": "7PoA5xEKhnuT",
   "metadata": {
    "id": "7PoA5xEKhnuT"
   },
   "source": [
    "### Visualisation of Training Loss, Evaluation Loss and WER Scores across training steps\n",
    "- **Huge drop in training and evaluation loss from steps 400 to 800:** Model is quickly adjusting to patterns in training data. Evaluation loss dropping alongside training loss indicates good generalisations.\n",
    "- **Note:** Can consider reducing learning rate parameter for more stable updates.\n",
    "- **Steps 800 to 6300:** Training seems to stabilize and move towards convergence. No overfitting is observed as validation loss is closely \"hovering\" above training loss.\n",
    "- **WER improvements:** WER drops in a similar trend with training and validation loss, indicating improvements in speech-to-text capabilities."
   ]
  },
  {
   "cell_type": "code",
   "execution_count": null,
   "id": "B2vpRoc4bsPU",
   "metadata": {
    "colab": {
     "base_uri": "https://localhost:8080/",
     "height": 1000
    },
    "executionInfo": {
     "elapsed": 3960,
     "status": "ok",
     "timestamp": 1740602306880,
     "user": {
      "displayName": "Jin Kett Yee",
      "userId": "13564150855909515795"
     },
     "user_tz": 480
    },
    "id": "B2vpRoc4bsPU",
    "outputId": "c7a4e5bd-8588-49fe-8c97-6bc384858131"
   },
   "outputs": [
    {
     "data": {
      "image/png": "[encoded data removed]",
      "text/plain": [
       "<Figure size 1000x1200 with 3 Axes>"
      ]
     },
     "metadata": {},
     "output_type": "display_data"
    }
   ],
   "source": [
    "# Plot train loss, eval loss and WER scores across steps\n",
    "def plot_metrics(model_dir):\n",
    "    \"\"\"\n",
    "    Plots training loss, validation loss, and evaluation WER over training steps.\n",
    "    \"\"\"\n",
    "    # Extract state file from saved checkpoint\n",
    "    state_file = os.path.join(model_dir, \"trainer_state.json\")\n",
    "\n",
    "    # Load JSON file\n",
    "    with open(state_file, \"r\") as f:\n",
    "        trainer_state = json.load(f)\n",
    "\n",
    "    # Extract log history\n",
    "    log_history = trainer_state.get(\"log_history\", [])\n",
    "\n",
    "    # Convert to DataFrame\n",
    "    log_df = pd.DataFrame(log_history)\n",
    "\n",
    "    # Extract relevant metrics while removing NaNs\n",
    "    train_loss = log_df[\"loss\"].dropna().values\n",
    "    eval_loss = log_df[\"eval_loss\"].dropna().values if \"eval_loss\" in log_df.columns else None\n",
    "    eval_wer = log_df[\"eval_wer\"].dropna().values if \"eval_wer\" in log_df.columns else None\n",
    "\n",
    "    # Generate step labels restarting at 400 for each chart\n",
    "    train_steps = np.arange(400, (len(train_loss) + 1) * 400, 400)\n",
    "    eval_steps = np.arange(400, (len(eval_loss) + 1) * 400, 400) if eval_loss is not None else None\n",
    "    wer_steps = np.arange(400, (len(eval_wer) + 1) * 400, 400) if eval_wer is not None else None\n",
    "\n",
    "    # Create subplots\n",
    "    fig, axs = plt.subplots(3, 1, figsize=(10, 12))\n",
    "\n",
    "    # Plot Training Loss\n",
    "    axs[0].plot(train_steps, train_loss, label=\"Training Loss\", marker=\"o\", linestyle=\"-\", color=\"blue\")\n",
    "    axs[0].set_title(\"Training Loss over Steps\")\n",
    "    axs[0].set_xlabel(\"Training Steps (Restart at 500)\")\n",
    "    axs[0].set_ylabel(\"Loss\")\n",
    "    axs[0].legend()\n",
    "    axs[0].grid()\n",
    "\n",
    "    # Plot Evaluation Loss (if available)\n",
    "    if eval_loss is not None:\n",
    "        axs[1].plot(eval_steps, eval_loss, label=\"Validation Loss\", marker=\"s\", linestyle=\"--\", color=\"orange\")\n",
    "        axs[1].set_title(\"Validation Loss over Steps\")\n",
    "        axs[1].set_xlabel(\"Training Steps (Restart at 500)\")\n",
    "        axs[1].set_ylabel(\"Loss\")\n",
    "        axs[1].legend()\n",
    "        axs[1].grid()\n",
    "\n",
    "    # Plot Evaluation WER (if available)\n",
    "    if eval_wer is not None:\n",
    "        axs[2].plot(wer_steps, eval_wer, label=\"Evaluation WER\", marker=\"d\", linestyle=\":\", color=\"red\")\n",
    "        axs[2].set_title(\"Evaluation WER over Steps\")\n",
    "        axs[2].set_xlabel(\"Training Steps (Restart at 500)\")\n",
    "        axs[2].set_ylabel(\"WER Score\")\n",
    "        axs[2].legend()\n",
    "        axs[2].grid()\n",
    "\n",
    "    # Adjust layout and show plots\n",
    "    plt.tight_layout()\n",
    "    plt.show()\n",
    "\n",
    "# Plot.\n",
    "model_dir = \"/content/drive/MyDrive/Colab Notebooks/wav2vec2-finetune/wav2vec2-large-960h-cv\"\n",
    "plot_metrics(model_dir)"
   ]
  },
  {
   "cell_type": "markdown",
   "id": "f2bfe607-5c1e-4121-9cff-8c6f91f1272d",
   "metadata": {
    "id": "f2bfe607-5c1e-4121-9cff-8c6f91f1272d"
   },
   "source": [
    "### Run inference transcriptions on \"cv-valid-test\" audio files and save generated text in \"cv-valid-test.csv\" with saved model"
   ]
  },
  {
   "cell_type": "code",
   "execution_count": null,
   "id": "kyrXomqSaERz",
   "metadata": {
    "colab": {
     "base_uri": "https://localhost:8080/"
    },
    "executionInfo": {
     "elapsed": 9618,
     "status": "ok",
     "timestamp": 1740602481463,
     "user": {
      "displayName": "Jin Kett Yee",
      "userId": "13564150855909515795"
     },
     "user_tz": 480
    },
    "id": "kyrXomqSaERz",
    "outputId": "f86ecd6d-b196-4a29-b2c5-30f64f992b10"
   },
   "outputs": [
    {
     "name": "stdout",
     "output_type": "stream",
     "text": [
      "Transcription: they made the boy continue digging but he found nothing\n"
     ]
    }
   ],
   "source": [
    "# Test transcription with loaded model and processor - load.\n",
    "model_path = \"/content/drive/MyDrive/Colab Notebooks/wav2vec2-finetune/wav2vec2-large-960h-cv\"\n",
    "\n",
    "# Define processor and model\n",
    "processor = Wav2Vec2Processor.from_pretrained(model_path)\n",
    "model = Wav2Vec2ForCTC.from_pretrained(model_path)\n",
    "\n",
    "# Define audio file path\n",
    "audio_path = \"/content/drive/MyDrive/Colab Notebooks/wav2vec2-finetune/cv-valid-test/sample-000011.mp3\"\n",
    "\n",
    "# Load audio file\n",
    "waveform, sr = torchaudio.load(audio_path)\n",
    "\n",
    "# Ensure correct sampling rate\n",
    "if sr != 16000:\n",
    "    resampler = torchaudio.transforms.Resample(sr, 16000)\n",
    "    waveform = resampler(waveform)\n",
    "\n",
    "# flatten waveform\n",
    "waveform = waveform.squeeze()\n",
    "\n",
    "# Process the audio input\n",
    "inputs = processor(waveform.numpy(), sampling_rate=16000, return_tensors=\"pt\")\n",
    "\n",
    "# Perform inference with the model\n",
    "with torch.no_grad():\n",
    "    logits = model(**inputs).logits\n",
    "\n",
    "# Decode prediction\n",
    "predicted_ids = torch.argmax(logits, dim=-1)\n",
    "transcription = processor.decode(predicted_ids[0], group_tokens=True)\n",
    "\n",
    "print(\"Transcription:\", transcription)"
   ]
  },
  {
   "cell_type": "code",
   "execution_count": null,
   "id": "e1b97186-b8a1-4240-87e9-05d5ce42eb19",
   "metadata": {
    "colab": {
     "base_uri": "https://localhost:8080/"
    },
    "executionInfo": {
     "elapsed": 2330114,
     "status": "ok",
     "timestamp": 1740607416095,
     "user": {
      "displayName": "Jin Kett Yee",
      "userId": "13564150855909515795"
     },
     "user_tz": 480
    },
    "id": "e1b97186-b8a1-4240-87e9-05d5ce42eb19",
    "outputId": "b9933396-c4bd-4292-d230-65ccfe11cc4e"
   },
   "outputs": [
    {
     "name": "stdout",
     "output_type": "stream",
     "text": [
      "Loaded 4076 rows from '/content/drive/MyDrive/Colab Notebooks/wav2vec2-finetune/cv-valid-dev-baseline.csv'.\n"
     ]
    },
    {
     "name": "stderr",
     "output_type": "stream",
     "text": [
      "Processing audio files: 100%|██████████| 4076/4076 [38:47<00:00,  1.75it/s]"
     ]
    },
    {
     "name": "stdout",
     "output_type": "stream",
     "text": [
      "Updated '/content/drive/MyDrive/Colab Notebooks/wav2vec2-finetune/cv-valid-dev-6300.csv' with transcriptions.\n"
     ]
    },
    {
     "name": "stderr",
     "output_type": "stream",
     "text": [
      "\n"
     ]
    }
   ],
   "source": [
    "# Set device (Use GPU if available)\n",
    "device = torch.device(\"cuda\" if torch.cuda.is_available() else \"cpu\")\n",
    "\n",
    "# Load fine-tuned model and processor\n",
    "model_dir = \"/content/drive/MyDrive/Colab Notebooks/wav2vec2-finetune/wav2vec2-large-960h-cv\"\n",
    "processor = Wav2Vec2Processor.from_pretrained(model_dir)\n",
    "model = Wav2Vec2ForCTC.from_pretrained(model_dir).to(device)\n",
    "\n",
    "# Load CSV containing filenames\n",
    "csv_file = \"/content/drive/MyDrive/Colab Notebooks/wav2vec2-finetune/cv-valid-dev-baseline.csv\"\n",
    "if not os.path.isfile(csv_file):\n",
    "    raise FileNotFoundError(f\"Error: '{csv_file}' not found.\")\n",
    "\n",
    "df = pd.read_csv(csv_file)\n",
    "print(f\"Loaded {len(df)} rows from '{csv_file}'.\")\n",
    "\n",
    "def process_audio(audio_path):\n",
    "    \"\"\"Loads and preprocesses an individual audio file for transcription.\"\"\"\n",
    "    try:\n",
    "        with open(audio_path, \"rb\") as f:\n",
    "            audio_bytes = f.read()\n",
    "\n",
    "        # Decode audio\n",
    "        audio, sr = torchaudio.load(io.BytesIO(audio_bytes), format=\"mp3\")\n",
    "\n",
    "        # Resample to 16 kHz if needed\n",
    "        if sr != 16000:\n",
    "            resampler = torchaudio.transforms.Resample(sr, 16000)\n",
    "            audio = resampler(audio)\n",
    "\n",
    "        # Convert multi-channel to mono if necessary\n",
    "        if audio.ndim > 1 and audio.shape[0] > 1:\n",
    "            audio = torch.mean(audio, dim=0)\n",
    "\n",
    "        return audio.squeeze(0)  # Remove extra dimensions\n",
    "\n",
    "    except Exception as e:\n",
    "        print(f\"Error processing '{audio_path}': {e}\")\n",
    "        return None  # Return None if processing fails\n",
    "\n",
    "def transcribe_audio(audio_tensor):\n",
    "    \"\"\"Transcribes a single audio file using the model.\"\"\"\n",
    "    inputs = processor(audio_tensor, sampling_rate=16000, return_tensors=\"pt\").to(device)\n",
    "    with torch.no_grad():\n",
    "        logits = model(inputs.input_values).logits\n",
    "    predicted_ids = torch.argmax(logits, dim=-1)\n",
    "    return processor.decode(predicted_ids[0])\n",
    "\n",
    "# Process audio files one by one\n",
    "transcriptions = []\n",
    "\n",
    "for _, row in tqdm(df.iterrows(), desc=\"Processing audio files\", total=len(df)):\n",
    "    file_name = row.get(\"filename\", \"\")\n",
    "    if not file_name:\n",
    "        transcriptions.append(\"\")\n",
    "        continue\n",
    "\n",
    "    audio_path = os.path.join(\"/content/drive/MyDrive/Colab Notebooks/wav2vec2-finetune\", file_name)\n",
    "    if not os.path.isfile(audio_path):\n",
    "        print(f\"Warning: File '{audio_path}' not found. Skipping.\")\n",
    "        transcriptions.append(\"\")\n",
    "        continue\n",
    "\n",
    "    audio_tensor = process_audio(audio_path)\n",
    "    if audio_tensor is None:\n",
    "        transcriptions.append(\"\")\n",
    "        continue\n",
    "\n",
    "    try:\n",
    "        text = transcribe_audio(audio_tensor)\n",
    "        transcriptions.append(text)\n",
    "    except Exception as e:\n",
    "        print(f\"Error transcribing '{audio_path}': {e}\")\n",
    "        transcriptions.append(\"\")\n",
    "\n",
    "# Save transcriptions to new CSV file\n",
    "df[\"generated_text6300\"] = transcriptions\n",
    "new_filename = \"/content/drive/MyDrive/Colab Notebooks/wav2vec2-finetune/cv-valid-dev-6300.csv\"\n",
    "df.to_csv(new_filename, index=False)\n",
    "print(f\"Updated '{new_filename}' with transcriptions.\")"
   ]
  },
  {
   "cell_type": "markdown",
   "id": "LycOr7562RfM",
   "metadata": {
    "id": "LycOr7562RfM"
   },
   "source": [
    "### Word Error Rate (WER) performance for Wav2Vec2 models on \"cv-valid-test\" dataset & \"cv-valid-dev\" dataset\n",
    "- Load WER scores from inference datasets (baseline pretrained, finetune2000 & finetune6300)\n",
    "- Plot categorical plots to illustrate WER scores across \"accent\".\n",
    "\n",
    "#### Results:\n",
    "- WER of fine-tuned model (2,000 datapoints) on test set was approximately 12%, a significant improvement from evaluation WER at 2,400 steps (21.9%)\n",
    "- WER of fine-tuned model (6,300 datapoints) on test set was approximately 7.3%, a significant improvement from evaluation WER at 6,000 steps (17.8%)"
   ]
  },
  {
   "cell_type": "code",
   "execution_count": null,
   "id": "ThFyN0ge2O27",
   "metadata": {
    "id": "ThFyN0ge2O27"
   },
   "outputs": [],
   "source": [
    "# Load WER metric\n",
    "wer_metric = evaluate.load(\"wer\")\n",
    "\n",
    "def compute_wer_from_csv(csv_path):\n",
    "    \"\"\"\n",
    "    Compute the Word Error Rate (WER) between the actual text and predicted transcriptions\n",
    "    from a CSV file. Converts text to lowercase before computing WER.\n",
    "    \"\"\"\n",
    "    # Load dataset\n",
    "    df = pd.read_csv(csv_path)\n",
    "\n",
    "    # Ensure required columns exist\n",
    "    if \"text\" not in df.columns or \"generated_text\" not in df.columns:\n",
    "        raise ValueError(\"CSV file must contain 'text' (ground truth) and 'generated_text' (predictions) columns.\")\n",
    "\n",
    "    # Convert text to lowercase\n",
    "    df[\"text\"] = df[\"text\"].str.lower()\n",
    "    df[\"generated_text\"] = df[\"generated_text\"].str.lower()\n",
    "\n",
    "    # Compute WER\n",
    "    wer_score = wer_metric.compute(predictions=df[\"generated_text\"].tolist(), references=df[\"text\"].tolist())\n",
    "\n",
    "    return wer_score"
   ]
  },
  {
   "cell_type": "code",
   "execution_count": null,
   "id": "IQ_n1ykkd8hr",
   "metadata": {
    "colab": {
     "base_uri": "https://localhost:8080/"
    },
    "executionInfo": {
     "elapsed": 768,
     "status": "ok",
     "timestamp": 1740604863214,
     "user": {
      "displayName": "Jin Kett Yee",
      "userId": "13564150855909515795"
     },
     "user_tz": 480
    },
    "id": "IQ_n1ykkd8hr",
    "outputId": "5eeca47b-26bc-41a3-d796-ac99ac0b7132"
   },
   "outputs": [
    {
     "name": "stdout",
     "output_type": "stream",
     "text": [
      "Baseline (dev set) WER: 0.1081\n"
     ]
    }
   ],
   "source": [
    "# Evaluate \"cv-valid-dev\" on WER for API inferencing\n",
    "csv_file = \"/content/drive/MyDrive/Colab Notebooks/wav2vec2-finetune/cv-valid-dev-baseline.csv\"\n",
    "wer_result = compute_wer_from_csv(csv_file)\n",
    "print(f\"Baseline (dev set) WER: {wer_result:.4f}\")"
   ]
  },
  {
   "cell_type": "code",
   "execution_count": null,
   "id": "RYgrvVFNR8AN",
   "metadata": {
    "colab": {
     "base_uri": "https://localhost:8080/"
    },
    "executionInfo": {
     "elapsed": 733,
     "status": "ok",
     "timestamp": 1740604864648,
     "user": {
      "displayName": "Jin Kett Yee",
      "userId": "13564150855909515795"
     },
     "user_tz": 480
    },
    "id": "RYgrvVFNR8AN",
    "outputId": "eafbf0b6-b024-4ab3-efff-cabbc3d500bc"
   },
   "outputs": [
    {
     "name": "stdout",
     "output_type": "stream",
     "text": [
      "Fine-tuned 2000 (test set) WER: 0.1204\n"
     ]
    }
   ],
   "source": [
    "# Evaluate \"cv-valid-test2000\" on WER for API inferencing\n",
    "csv_file = \"/content/drive/MyDrive/Colab Notebooks/wav2vec2-finetune/cv-valid-test-transcribed2000.csv\"\n",
    "wer_result = compute_wer_from_csv(csv_file)\n",
    "print(f\"Fine-tuned 2000 (test set) WER: {wer_result:.4f}\")"
   ]
  },
  {
   "cell_type": "code",
   "execution_count": null,
   "id": "ciabmYFAE0si",
   "metadata": {
    "colab": {
     "base_uri": "https://localhost:8080/"
    },
    "executionInfo": {
     "elapsed": 171,
     "status": "ok",
     "timestamp": 1740604866969,
     "user": {
      "displayName": "Jin Kett Yee",
      "userId": "13564150855909515795"
     },
     "user_tz": 480
    },
    "id": "ciabmYFAE0si",
    "outputId": "4d7a4ac1-637c-439f-d3f4-1eb2dde2f24c"
   },
   "outputs": [
    {
     "name": "stdout",
     "output_type": "stream",
     "text": [
      "Fine-tuned 6300 (test set) WER: 0.0727\n"
     ]
    }
   ],
   "source": [
    "# Evaluate \"cv-valid-test6300\" on WER for API inferencing\n",
    "csv_file = \"/content/drive/MyDrive/Colab Notebooks/wav2vec2-finetune/cv-valid-test-transcribed6300.csv\"\n",
    "wer_result = compute_wer_from_csv(csv_file)\n",
    "print(f\"Fine-tuned 6300 (test set) WER: {wer_result:.4f}\")"
   ]
  },
  {
   "cell_type": "code",
   "execution_count": null,
   "id": "bAI9RZN9TDzI",
   "metadata": {
    "colab": {
     "base_uri": "https://localhost:8080/"
    },
    "executionInfo": {
     "elapsed": 290,
     "status": "ok",
     "timestamp": 1740607756762,
     "user": {
      "displayName": "Jin Kett Yee",
      "userId": "13564150855909515795"
     },
     "user_tz": 480
    },
    "id": "bAI9RZN9TDzI",
    "outputId": "6375e792-080c-41bd-b371-b352212fb3db"
   },
   "outputs": [
    {
     "name": "stdout",
     "output_type": "stream",
     "text": [
      "Fine-tuned 6300 (dev set) WER: 0.0772\n"
     ]
    }
   ],
   "source": [
    "# Evaluate \"cv-valid-dev-6300\" on WER for API inferencing\n",
    "csv_file = \"/content/drive/MyDrive/Colab Notebooks/wav2vec2-finetune/cv-valid-dev-6300.csv\"\n",
    "wer_result = compute_wer_from_csv(csv_file)\n",
    "print(f\"Fine-tuned 6300 (dev set) WER: {wer_result:.4f}\")"
   ]
  },
  {
   "cell_type": "markdown",
   "id": "g2VCqfw3ZohP",
   "metadata": {
    "id": "g2VCqfw3ZohP"
   },
   "source": [
    "#### Plot WER scores across key features \"accent\", \"gender\" and \"age\""
   ]
  },
  {
   "cell_type": "code",
   "execution_count": null,
   "id": "SbPZr-_uSW1R",
   "metadata": {
    "id": "SbPZr-_uSW1R"
   },
   "outputs": [],
   "source": [
    "# Load WER metric\n",
    "wer_metric = evaluate.load(\"wer\")\n",
    "\n",
    "def compute_wer_and_plot(csv_path, category_column):\n",
    "    \"\"\"\n",
    "    Compute the Word Error Rate (WER) for the overall dataset and across\n",
    "    a specified categorical column. Returns a bar plot of WER scores grouped\n",
    "    by the categorical variable.\n",
    "    \"\"\"\n",
    "    # Load dataset\n",
    "    df = pd.read_csv(csv_path)\n",
    "\n",
    "    # Ensure required columns exist\n",
    "    required_columns = {\"text\", \"generated_text6300\", category_column}\n",
    "    if not required_columns.issubset(df.columns):\n",
    "        raise ValueError(f\"CSV file must contain columns: {required_columns}\")\n",
    "\n",
    "    # Convert text to lowercase\n",
    "    df[\"text\"] = df[\"text\"].str.lower()\n",
    "    df[\"generated_text6300\"] = df[\"generated_text6300\"].str.lower()\n",
    "\n",
    "    # Compute overall WER\n",
    "    overall_wer = wer_metric.compute(predictions=df[\"generated_text6300\"].tolist(),\n",
    "                                     references=df[\"text\"].tolist())\n",
    "\n",
    "    print(f\"Overall WER: {overall_wer:.4f}\")\n",
    "\n",
    "    # Compute WER for each category\n",
    "    wer_by_category = {}\n",
    "    for category, group in df.groupby(category_column):\n",
    "        wer = wer_metric.compute(predictions=group[\"generated_text6300\"].tolist(),\n",
    "                                 references=group[\"text\"].tolist())\n",
    "        wer_by_category[category] = wer\n",
    "\n",
    "    # Convert to DataFrame for plotting\n",
    "    wer_df = pd.DataFrame(list(wer_by_category.items()), columns=[category_column, \"WER Score\"])\n",
    "\n",
    "    # Plot WER scores across categories\n",
    "    plt.figure(figsize=(10, 5))\n",
    "    sns.barplot(x=category_column, y=\"WER Score\", data=wer_df, palette=\"viridis\")\n",
    "    plt.title(f\"WER Scores by {category_column} (fine-tuned)\")\n",
    "    plt.ylabel(\"Word Error Rate (WER)\")\n",
    "    plt.xlabel(category_column)\n",
    "    plt.xticks(rotation=45)\n",
    "    plt.ylim(0, max(wer_by_category.values()) * 1.1)  # Add some padding\n",
    "    plt.show()"
   ]
  },
  {
   "cell_type": "code",
   "execution_count": null,
   "id": "0byE2kLK0ayz",
   "metadata": {
    "colab": {
     "base_uri": "https://localhost:8080/",
     "height": 658
    },
    "executionInfo": {
     "elapsed": 1191,
     "status": "ok",
     "timestamp": 1740616392452,
     "user": {
      "displayName": "Jin Kett Yee",
      "userId": "13564150855909515795"
     },
     "user_tz": 480
    },
    "id": "0byE2kLK0ayz",
    "outputId": "c06c08fe-fd10-49b4-ddb4-4cc7ac7a3be8"
   },
   "outputs": [
    {
     "name": "stdout",
     "output_type": "stream",
     "text": [
      "Overall WER: 0.1081\n"
     ]
    },
    {
     "name": "stderr",
     "output_type": "stream",
     "text": [
      "<ipython-input-8-2bb113a6e360>:40: FutureWarning: \n",
      "\n",
      "Passing `palette` without assigning `hue` is deprecated and will be removed in v0.14.0. Assign the `x` variable to `hue` and set `legend=False` for the same effect.\n",
      "\n",
      "  sns.barplot(x=category_column, y=\"WER Score\", data=wer_df, palette=\"viridis\")\n"
     ]
    },
    {
     "data": {
      "image/png": "[encoded data removed]",
      "text/plain": [
       "<Figure size 1000x500 with 1 Axes>"
      ]
     },
     "metadata": {},
     "output_type": "display_data"
    }
   ],
   "source": [
    "# Baseline model\n",
    "csv_file = \"/content/drive/MyDrive/Colab Notebooks/wav2vec2-finetune/cv-valid-dev-baseline.csv\"\n",
    "compute_wer_and_plot(csv_file, \"accent\")"
   ]
  },
  {
   "cell_type": "code",
   "execution_count": null,
   "id": "nW0kFkWLvhuJ",
   "metadata": {
    "colab": {
     "base_uri": "https://localhost:8080/",
     "height": 658
    },
    "executionInfo": {
     "elapsed": 3795,
     "status": "ok",
     "timestamp": 1740615234888,
     "user": {
      "displayName": "Jin Kett Yee",
      "userId": "13564150855909515795"
     },
     "user_tz": 480
    },
    "id": "nW0kFkWLvhuJ",
    "outputId": "ae2113de-9940-4a2c-8b0f-b052a3b0f9ea"
   },
   "outputs": [
    {
     "name": "stdout",
     "output_type": "stream",
     "text": [
      "Overall WER: 0.1204\n"
     ]
    },
    {
     "name": "stderr",
     "output_type": "stream",
     "text": [
      "<ipython-input-5-ade32b660654>:40: FutureWarning: \n",
      "\n",
      "Passing `palette` without assigning `hue` is deprecated and will be removed in v0.14.0. Assign the `x` variable to `hue` and set `legend=False` for the same effect.\n",
      "\n",
      "  sns.barplot(x=category_column, y=\"WER Score\", data=wer_df, palette=\"viridis\")\n"
     ]
    },
    {
     "data": {
      "image/png": "[encoded data removed]",
      "text/plain": [
       "<Figure size 1000x500 with 1 Axes>"
      ]
     },
     "metadata": {},
     "output_type": "display_data"
    }
   ],
   "source": [
    "# Fine-tuned 2,000 model\n",
    "csv_file = \"/content/drive/MyDrive/Colab Notebooks/wav2vec2-finetune/cv-valid-test-transcribed2000.csv\"\n",
    "compute_wer_and_plot(csv_file, \"accent\")"
   ]
  },
  {
   "cell_type": "code",
   "execution_count": null,
   "id": "qU5PhxN9Z1vU",
   "metadata": {
    "colab": {
     "base_uri": "https://localhost:8080/",
     "height": 658
    },
    "executionInfo": {
     "elapsed": 949,
     "status": "ok",
     "timestamp": 1740616525178,
     "user": {
      "displayName": "Jin Kett Yee",
      "userId": "13564150855909515795"
     },
     "user_tz": 480
    },
    "id": "qU5PhxN9Z1vU",
    "outputId": "8aede476-3f92-4498-be34-e6f805c9a3c9"
   },
   "outputs": [
    {
     "name": "stdout",
     "output_type": "stream",
     "text": [
      "Overall WER: 0.0772\n"
     ]
    },
    {
     "name": "stderr",
     "output_type": "stream",
     "text": [
      "<ipython-input-12-bb2cafc77bd9>:40: FutureWarning: \n",
      "\n",
      "Passing `palette` without assigning `hue` is deprecated and will be removed in v0.14.0. Assign the `x` variable to `hue` and set `legend=False` for the same effect.\n",
      "\n",
      "  sns.barplot(x=category_column, y=\"WER Score\", data=wer_df, palette=\"viridis\")\n"
     ]
    },
    {
     "data": {
      "image/png": "[encoded data removed]",
      "text/plain": [
       "<Figure size 1000x500 with 1 Axes>"
      ]
     },
     "metadata": {},
     "output_type": "display_data"
    }
   ],
   "source": [
    "# Fine-tuned 6,300 model\n",
    "csv_file = \"/content/drive/MyDrive/Colab Notebooks/wav2vec2-finetune/cv-valid-dev-6300.csv\"\n",
    "compute_wer_and_plot(csv_file, \"accent\")"
   ]
  },
  {
   "cell_type": "code",
   "execution_count": null,
   "id": "c4pkx2cDULYu",
   "metadata": {
    "id": "c4pkx2cDULYu"
   },
   "outputs": [],
   "source": []
  }
 ],
 "metadata": {
  "accelerator": "GPU",
  "colab": {
   "gpuType": "T4",
   "provenance": []
  },
  "kernelspec": {
   "display_name": "Python 3 (ipykernel)",
   "language": "python",
   "name": "python3"
  },
  "language_info": {
   "codemirror_mode": {
    "name": "ipython",
    "version": 3
   },
   "file_extension": ".py",
   "mimetype": "text/x-python",
   "name": "python",
   "nbconvert_exporter": "python",
   "pygments_lexer": "ipython3",
   "version": "3.10.11"
  }
 },
 "nbformat": 4,
 "nbformat_minor": 5
}
